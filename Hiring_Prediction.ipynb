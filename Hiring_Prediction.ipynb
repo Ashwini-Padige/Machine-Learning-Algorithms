{
  "nbformat": 4,
  "nbformat_minor": 0,
  "metadata": {
    "colab": {
      "provenance": [],
      "include_colab_link": true
    },
    "kernelspec": {
      "name": "python3",
      "display_name": "Python 3"
    },
    "language_info": {
      "name": "python"
    }
  },
  "cells": [
    {
      "cell_type": "markdown",
      "metadata": {
        "id": "view-in-github",
        "colab_type": "text"
      },
      "source": [
        "<a href=\"https://colab.research.google.com/github/Ashwini-Padige/Machine-Learning-Algorithms/blob/main/Hiring_Prediction.ipynb\" target=\"_parent\"><img src=\"https://colab.research.google.com/assets/colab-badge.svg\" alt=\"Open In Colab\"/></a>"
      ]
    },
    {
      "cell_type": "markdown",
      "source": [
        "# **Candidates hiring Prediction**"
      ],
      "metadata": {
        "id": "VQbkErj4YxC3"
      }
    },
    {
      "cell_type": "markdown",
      "source": [
        "### **Problem Statement**\n",
        "build a classification model predicting whether candidate will get hired or not.\n"
      ],
      "metadata": {
        "id": "pnxmSJRxYujm"
      }
    },
    {
      "cell_type": "markdown",
      "source": [
        "### **Anonymized Features:**\n",
        "\n",
        "C1: b, a.\n",
        "\n",
        "C2: continuous.\n",
        "\n",
        "C3: continuous.\n",
        "\n",
        "C4: u, y, l, t.\n",
        "\n",
        "C5: g, p, gg.\n",
        "\n",
        "C6: c, d, cc, i, j, k, m, r, q, w, x, e, aa, ff.\n",
        "\n",
        "C7: v, h, bb, j, n, z, dd, ff, o.\n",
        "\n",
        "C8: continuous.\n",
        "\n",
        "C9: t, f.\n",
        "\n",
        "C10: t, f.\n",
        "\n",
        "C11: continuous.\n",
        "\n",
        "C12: t, f.\n",
        "\n",
        "C13: g, p, s.\n",
        "\n",
        "C14: continuous.\n",
        "\n",
        "C15: continuous.\n",
        "\n",
        "\n",
        "\n",
        "*   Output variable (desired target):\n",
        "y - Hired Flag: 1,0\n",
        "has the candidate hired or not?\n",
        "\n",
        "\n",
        "♦♦♦♦♦♦♦♦♦♦♦♦♦♦♦♦♦♦♦♦♦♦♦♦♦♦♦♦♦♦♦♦♦♦♦♦♦♦♦♦♦♦♦♦♦♦♦♦♦♦♦♦♦♦♦♦♦♦♦♦♦♦♦♦♦♦♦♦♦♦♦♦♦♦♦♦♦♦♦♦\n",
        "\n"
      ],
      "metadata": {
        "id": "NC2_DVNcaY-0"
      }
    },
    {
      "cell_type": "markdown",
      "source": [
        "# **Basic Analysis of Dataset from Problem Statement and Features**\n",
        "\n",
        "*   It is a supervised learning problem - We are predicting target variable\n",
        "*   From target varible we can clearly understand it is a classification problem\n",
        "*   From target variable we can tell it is a binary classification problem.   target = (1/0)\n"
      ],
      "metadata": {
        "id": "8rbK4Me6fsqk"
      }
    },
    {
      "cell_type": "markdown",
      "source": [
        "# **Importing Libraries**"
      ],
      "metadata": {
        "id": "H9OqQj2TdtHM"
      }
    },
    {
      "cell_type": "code",
      "source": [
        "import pandas as pd\n",
        "import numpy as np\n",
        "import matplotlib.pyplot as plt\n",
        "import seaborn as sns"
      ],
      "metadata": {
        "id": "a7mEt_OHaKsl"
      },
      "execution_count": null,
      "outputs": []
    },
    {
      "cell_type": "code",
      "source": [
        "#To ignore warnings\n",
        "import warnings\n",
        "warnings.filterwarnings(\"ignore\")"
      ],
      "metadata": {
        "id": "VKemzKJflY-F"
      },
      "execution_count": null,
      "outputs": []
    },
    {
      "cell_type": "markdown",
      "source": [
        "# **Loading Dataset**"
      ],
      "metadata": {
        "id": "tkdJ_ToCeGkU"
      }
    },
    {
      "cell_type": "code",
      "source": [
        "df=pd.read_csv(\"/content/Hiring_Challenge.csv\")"
      ],
      "metadata": {
        "id": "9y4vGzPneLht"
      },
      "execution_count": null,
      "outputs": []
    },
    {
      "cell_type": "markdown",
      "source": [
        "# **Analysis of Data**"
      ],
      "metadata": {
        "id": "RnZy10f4gQhT"
      }
    },
    {
      "cell_type": "code",
      "source": [
        "# Checking size of dataset\n",
        "print(\"Data set size : \", df.shape)"
      ],
      "metadata": {
        "colab": {
          "base_uri": "https://localhost:8080/"
        },
        "id": "rkESxjTGgp28",
        "outputId": "cb1325e2-3d7c-490f-f339-15ef3c4b11b0"
      },
      "execution_count": null,
      "outputs": [
        {
          "output_type": "stream",
          "name": "stdout",
          "text": [
            "Data set size :  (690, 16)\n"
          ]
        }
      ]
    },
    {
      "cell_type": "markdown",
      "source": [
        "From the above result no of rows are 690 and no of columns are 16"
      ],
      "metadata": {
        "id": "m2ECUS4Ip4UC"
      }
    },
    {
      "cell_type": "code",
      "source": [
        "#Fetching top 5 row in dataset\n",
        "df.head()"
      ],
      "metadata": {
        "colab": {
          "base_uri": "https://localhost:8080/",
          "height": 206
        },
        "id": "2Icg-yjXfDC8",
        "outputId": "a30f5f37-14a0-49a3-ef23-1a20df88ed19"
      },
      "execution_count": null,
      "outputs": [
        {
          "output_type": "execute_result",
          "data": {
            "text/plain": [
              "  C1     C2     C3 C4 C5 C6 C7    C8 C9 C10  C11 C12 C13  C14  C15  Hired\n",
              "0  b  30.83  0.000  u  g  w  v  1.25  t   t    1   f   g  202    0      1\n",
              "1  a  58.67  4.460  u  g  q  h  3.04  t   t    6   f   g   43  560      1\n",
              "2  a   24.5  0.500  u  g  q  h  1.50  t   f    0   f   g  280  824      1\n",
              "3  b  27.83  1.540  u  g  w  v  3.75  t   t    5   t   g  100    3      1\n",
              "4  b  20.17  5.625  u  g  w  v  1.71  t   f    0   f   s  120    0      1"
            ],
            "text/html": [
              "\n",
              "  <div id=\"df-3dee6134-2569-4cbd-b809-5c4e8a601770\" class=\"colab-df-container\">\n",
              "    <div>\n",
              "<style scoped>\n",
              "    .dataframe tbody tr th:only-of-type {\n",
              "        vertical-align: middle;\n",
              "    }\n",
              "\n",
              "    .dataframe tbody tr th {\n",
              "        vertical-align: top;\n",
              "    }\n",
              "\n",
              "    .dataframe thead th {\n",
              "        text-align: right;\n",
              "    }\n",
              "</style>\n",
              "<table border=\"1\" class=\"dataframe\">\n",
              "  <thead>\n",
              "    <tr style=\"text-align: right;\">\n",
              "      <th></th>\n",
              "      <th>C1</th>\n",
              "      <th>C2</th>\n",
              "      <th>C3</th>\n",
              "      <th>C4</th>\n",
              "      <th>C5</th>\n",
              "      <th>C6</th>\n",
              "      <th>C7</th>\n",
              "      <th>C8</th>\n",
              "      <th>C9</th>\n",
              "      <th>C10</th>\n",
              "      <th>C11</th>\n",
              "      <th>C12</th>\n",
              "      <th>C13</th>\n",
              "      <th>C14</th>\n",
              "      <th>C15</th>\n",
              "      <th>Hired</th>\n",
              "    </tr>\n",
              "  </thead>\n",
              "  <tbody>\n",
              "    <tr>\n",
              "      <th>0</th>\n",
              "      <td>b</td>\n",
              "      <td>30.83</td>\n",
              "      <td>0.000</td>\n",
              "      <td>u</td>\n",
              "      <td>g</td>\n",
              "      <td>w</td>\n",
              "      <td>v</td>\n",
              "      <td>1.25</td>\n",
              "      <td>t</td>\n",
              "      <td>t</td>\n",
              "      <td>1</td>\n",
              "      <td>f</td>\n",
              "      <td>g</td>\n",
              "      <td>202</td>\n",
              "      <td>0</td>\n",
              "      <td>1</td>\n",
              "    </tr>\n",
              "    <tr>\n",
              "      <th>1</th>\n",
              "      <td>a</td>\n",
              "      <td>58.67</td>\n",
              "      <td>4.460</td>\n",
              "      <td>u</td>\n",
              "      <td>g</td>\n",
              "      <td>q</td>\n",
              "      <td>h</td>\n",
              "      <td>3.04</td>\n",
              "      <td>t</td>\n",
              "      <td>t</td>\n",
              "      <td>6</td>\n",
              "      <td>f</td>\n",
              "      <td>g</td>\n",
              "      <td>43</td>\n",
              "      <td>560</td>\n",
              "      <td>1</td>\n",
              "    </tr>\n",
              "    <tr>\n",
              "      <th>2</th>\n",
              "      <td>a</td>\n",
              "      <td>24.5</td>\n",
              "      <td>0.500</td>\n",
              "      <td>u</td>\n",
              "      <td>g</td>\n",
              "      <td>q</td>\n",
              "      <td>h</td>\n",
              "      <td>1.50</td>\n",
              "      <td>t</td>\n",
              "      <td>f</td>\n",
              "      <td>0</td>\n",
              "      <td>f</td>\n",
              "      <td>g</td>\n",
              "      <td>280</td>\n",
              "      <td>824</td>\n",
              "      <td>1</td>\n",
              "    </tr>\n",
              "    <tr>\n",
              "      <th>3</th>\n",
              "      <td>b</td>\n",
              "      <td>27.83</td>\n",
              "      <td>1.540</td>\n",
              "      <td>u</td>\n",
              "      <td>g</td>\n",
              "      <td>w</td>\n",
              "      <td>v</td>\n",
              "      <td>3.75</td>\n",
              "      <td>t</td>\n",
              "      <td>t</td>\n",
              "      <td>5</td>\n",
              "      <td>t</td>\n",
              "      <td>g</td>\n",
              "      <td>100</td>\n",
              "      <td>3</td>\n",
              "      <td>1</td>\n",
              "    </tr>\n",
              "    <tr>\n",
              "      <th>4</th>\n",
              "      <td>b</td>\n",
              "      <td>20.17</td>\n",
              "      <td>5.625</td>\n",
              "      <td>u</td>\n",
              "      <td>g</td>\n",
              "      <td>w</td>\n",
              "      <td>v</td>\n",
              "      <td>1.71</td>\n",
              "      <td>t</td>\n",
              "      <td>f</td>\n",
              "      <td>0</td>\n",
              "      <td>f</td>\n",
              "      <td>s</td>\n",
              "      <td>120</td>\n",
              "      <td>0</td>\n",
              "      <td>1</td>\n",
              "    </tr>\n",
              "  </tbody>\n",
              "</table>\n",
              "</div>\n",
              "    <div class=\"colab-df-buttons\">\n",
              "\n",
              "  <div class=\"colab-df-container\">\n",
              "    <button class=\"colab-df-convert\" onclick=\"convertToInteractive('df-3dee6134-2569-4cbd-b809-5c4e8a601770')\"\n",
              "            title=\"Convert this dataframe to an interactive table.\"\n",
              "            style=\"display:none;\">\n",
              "\n",
              "  <svg xmlns=\"http://www.w3.org/2000/svg\" height=\"24px\" viewBox=\"0 -960 960 960\">\n",
              "    <path d=\"M120-120v-720h720v720H120Zm60-500h600v-160H180v160Zm220 220h160v-160H400v160Zm0 220h160v-160H400v160ZM180-400h160v-160H180v160Zm440 0h160v-160H620v160ZM180-180h160v-160H180v160Zm440 0h160v-160H620v160Z\"/>\n",
              "  </svg>\n",
              "    </button>\n",
              "\n",
              "  <style>\n",
              "    .colab-df-container {\n",
              "      display:flex;\n",
              "      gap: 12px;\n",
              "    }\n",
              "\n",
              "    .colab-df-convert {\n",
              "      background-color: #E8F0FE;\n",
              "      border: none;\n",
              "      border-radius: 50%;\n",
              "      cursor: pointer;\n",
              "      display: none;\n",
              "      fill: #1967D2;\n",
              "      height: 32px;\n",
              "      padding: 0 0 0 0;\n",
              "      width: 32px;\n",
              "    }\n",
              "\n",
              "    .colab-df-convert:hover {\n",
              "      background-color: #E2EBFA;\n",
              "      box-shadow: 0px 1px 2px rgba(60, 64, 67, 0.3), 0px 1px 3px 1px rgba(60, 64, 67, 0.15);\n",
              "      fill: #174EA6;\n",
              "    }\n",
              "\n",
              "    .colab-df-buttons div {\n",
              "      margin-bottom: 4px;\n",
              "    }\n",
              "\n",
              "    [theme=dark] .colab-df-convert {\n",
              "      background-color: #3B4455;\n",
              "      fill: #D2E3FC;\n",
              "    }\n",
              "\n",
              "    [theme=dark] .colab-df-convert:hover {\n",
              "      background-color: #434B5C;\n",
              "      box-shadow: 0px 1px 3px 1px rgba(0, 0, 0, 0.15);\n",
              "      filter: drop-shadow(0px 1px 2px rgba(0, 0, 0, 0.3));\n",
              "      fill: #FFFFFF;\n",
              "    }\n",
              "  </style>\n",
              "\n",
              "    <script>\n",
              "      const buttonEl =\n",
              "        document.querySelector('#df-3dee6134-2569-4cbd-b809-5c4e8a601770 button.colab-df-convert');\n",
              "      buttonEl.style.display =\n",
              "        google.colab.kernel.accessAllowed ? 'block' : 'none';\n",
              "\n",
              "      async function convertToInteractive(key) {\n",
              "        const element = document.querySelector('#df-3dee6134-2569-4cbd-b809-5c4e8a601770');\n",
              "        const dataTable =\n",
              "          await google.colab.kernel.invokeFunction('convertToInteractive',\n",
              "                                                    [key], {});\n",
              "        if (!dataTable) return;\n",
              "\n",
              "        const docLinkHtml = 'Like what you see? Visit the ' +\n",
              "          '<a target=\"_blank\" href=https://colab.research.google.com/notebooks/data_table.ipynb>data table notebook</a>'\n",
              "          + ' to learn more about interactive tables.';\n",
              "        element.innerHTML = '';\n",
              "        dataTable['output_type'] = 'display_data';\n",
              "        await google.colab.output.renderOutput(dataTable, element);\n",
              "        const docLink = document.createElement('div');\n",
              "        docLink.innerHTML = docLinkHtml;\n",
              "        element.appendChild(docLink);\n",
              "      }\n",
              "    </script>\n",
              "  </div>\n",
              "\n",
              "\n",
              "<div id=\"df-c2aefea0-ac88-4631-9c7a-bf91dcac87a9\">\n",
              "  <button class=\"colab-df-quickchart\" onclick=\"quickchart('df-c2aefea0-ac88-4631-9c7a-bf91dcac87a9')\"\n",
              "            title=\"Suggest charts.\"\n",
              "            style=\"display:none;\">\n",
              "\n",
              "<svg xmlns=\"http://www.w3.org/2000/svg\" height=\"24px\"viewBox=\"0 0 24 24\"\n",
              "     width=\"24px\">\n",
              "    <g>\n",
              "        <path d=\"M19 3H5c-1.1 0-2 .9-2 2v14c0 1.1.9 2 2 2h14c1.1 0 2-.9 2-2V5c0-1.1-.9-2-2-2zM9 17H7v-7h2v7zm4 0h-2V7h2v10zm4 0h-2v-4h2v4z\"/>\n",
              "    </g>\n",
              "</svg>\n",
              "  </button>\n",
              "\n",
              "<style>\n",
              "  .colab-df-quickchart {\n",
              "      --bg-color: #E8F0FE;\n",
              "      --fill-color: #1967D2;\n",
              "      --hover-bg-color: #E2EBFA;\n",
              "      --hover-fill-color: #174EA6;\n",
              "      --disabled-fill-color: #AAA;\n",
              "      --disabled-bg-color: #DDD;\n",
              "  }\n",
              "\n",
              "  [theme=dark] .colab-df-quickchart {\n",
              "      --bg-color: #3B4455;\n",
              "      --fill-color: #D2E3FC;\n",
              "      --hover-bg-color: #434B5C;\n",
              "      --hover-fill-color: #FFFFFF;\n",
              "      --disabled-bg-color: #3B4455;\n",
              "      --disabled-fill-color: #666;\n",
              "  }\n",
              "\n",
              "  .colab-df-quickchart {\n",
              "    background-color: var(--bg-color);\n",
              "    border: none;\n",
              "    border-radius: 50%;\n",
              "    cursor: pointer;\n",
              "    display: none;\n",
              "    fill: var(--fill-color);\n",
              "    height: 32px;\n",
              "    padding: 0;\n",
              "    width: 32px;\n",
              "  }\n",
              "\n",
              "  .colab-df-quickchart:hover {\n",
              "    background-color: var(--hover-bg-color);\n",
              "    box-shadow: 0 1px 2px rgba(60, 64, 67, 0.3), 0 1px 3px 1px rgba(60, 64, 67, 0.15);\n",
              "    fill: var(--button-hover-fill-color);\n",
              "  }\n",
              "\n",
              "  .colab-df-quickchart-complete:disabled,\n",
              "  .colab-df-quickchart-complete:disabled:hover {\n",
              "    background-color: var(--disabled-bg-color);\n",
              "    fill: var(--disabled-fill-color);\n",
              "    box-shadow: none;\n",
              "  }\n",
              "\n",
              "  .colab-df-spinner {\n",
              "    border: 2px solid var(--fill-color);\n",
              "    border-color: transparent;\n",
              "    border-bottom-color: var(--fill-color);\n",
              "    animation:\n",
              "      spin 1s steps(1) infinite;\n",
              "  }\n",
              "\n",
              "  @keyframes spin {\n",
              "    0% {\n",
              "      border-color: transparent;\n",
              "      border-bottom-color: var(--fill-color);\n",
              "      border-left-color: var(--fill-color);\n",
              "    }\n",
              "    20% {\n",
              "      border-color: transparent;\n",
              "      border-left-color: var(--fill-color);\n",
              "      border-top-color: var(--fill-color);\n",
              "    }\n",
              "    30% {\n",
              "      border-color: transparent;\n",
              "      border-left-color: var(--fill-color);\n",
              "      border-top-color: var(--fill-color);\n",
              "      border-right-color: var(--fill-color);\n",
              "    }\n",
              "    40% {\n",
              "      border-color: transparent;\n",
              "      border-right-color: var(--fill-color);\n",
              "      border-top-color: var(--fill-color);\n",
              "    }\n",
              "    60% {\n",
              "      border-color: transparent;\n",
              "      border-right-color: var(--fill-color);\n",
              "    }\n",
              "    80% {\n",
              "      border-color: transparent;\n",
              "      border-right-color: var(--fill-color);\n",
              "      border-bottom-color: var(--fill-color);\n",
              "    }\n",
              "    90% {\n",
              "      border-color: transparent;\n",
              "      border-bottom-color: var(--fill-color);\n",
              "    }\n",
              "  }\n",
              "</style>\n",
              "\n",
              "  <script>\n",
              "    async function quickchart(key) {\n",
              "      const quickchartButtonEl =\n",
              "        document.querySelector('#' + key + ' button');\n",
              "      quickchartButtonEl.disabled = true;  // To prevent multiple clicks.\n",
              "      quickchartButtonEl.classList.add('colab-df-spinner');\n",
              "      try {\n",
              "        const charts = await google.colab.kernel.invokeFunction(\n",
              "            'suggestCharts', [key], {});\n",
              "      } catch (error) {\n",
              "        console.error('Error during call to suggestCharts:', error);\n",
              "      }\n",
              "      quickchartButtonEl.classList.remove('colab-df-spinner');\n",
              "      quickchartButtonEl.classList.add('colab-df-quickchart-complete');\n",
              "    }\n",
              "    (() => {\n",
              "      let quickchartButtonEl =\n",
              "        document.querySelector('#df-c2aefea0-ac88-4631-9c7a-bf91dcac87a9 button');\n",
              "      quickchartButtonEl.style.display =\n",
              "        google.colab.kernel.accessAllowed ? 'block' : 'none';\n",
              "    })();\n",
              "  </script>\n",
              "</div>\n",
              "    </div>\n",
              "  </div>\n"
            ]
          },
          "metadata": {},
          "execution_count": 110
        }
      ]
    },
    {
      "cell_type": "code",
      "source": [
        "#Fetching Bottom 5 rows\n",
        "df.tail()"
      ],
      "metadata": {
        "colab": {
          "base_uri": "https://localhost:8080/",
          "height": 206
        },
        "id": "awOaZE22nz3W",
        "outputId": "05e59883-605b-409b-9148-766b0de7554a"
      },
      "execution_count": null,
      "outputs": [
        {
          "output_type": "execute_result",
          "data": {
            "text/plain": [
              "    C1     C2      C3 C4 C5  C6  C7    C8 C9 C10  C11 C12 C13  C14  C15  Hired\n",
              "685  b  21.08  10.085  y  p   e   h  1.25  f   f    0   f   g  260    0      0\n",
              "686  a  22.67   0.750  u  g   c   v  2.00  f   t    2   t   g  200  394      0\n",
              "687  a  25.25  13.500  y  p  ff  ff  2.00  f   t    1   t   g  200    1      0\n",
              "688  b  17.92   0.205  u  g  aa   v  0.04  f   f    0   f   g  280  750      0\n",
              "689  b     35   3.375  u  g   c   h  8.29  f   f    0   t   g    0    0      0"
            ],
            "text/html": [
              "\n",
              "  <div id=\"df-4a8e5fe6-a1bf-4d30-b63d-9a2da26ad705\" class=\"colab-df-container\">\n",
              "    <div>\n",
              "<style scoped>\n",
              "    .dataframe tbody tr th:only-of-type {\n",
              "        vertical-align: middle;\n",
              "    }\n",
              "\n",
              "    .dataframe tbody tr th {\n",
              "        vertical-align: top;\n",
              "    }\n",
              "\n",
              "    .dataframe thead th {\n",
              "        text-align: right;\n",
              "    }\n",
              "</style>\n",
              "<table border=\"1\" class=\"dataframe\">\n",
              "  <thead>\n",
              "    <tr style=\"text-align: right;\">\n",
              "      <th></th>\n",
              "      <th>C1</th>\n",
              "      <th>C2</th>\n",
              "      <th>C3</th>\n",
              "      <th>C4</th>\n",
              "      <th>C5</th>\n",
              "      <th>C6</th>\n",
              "      <th>C7</th>\n",
              "      <th>C8</th>\n",
              "      <th>C9</th>\n",
              "      <th>C10</th>\n",
              "      <th>C11</th>\n",
              "      <th>C12</th>\n",
              "      <th>C13</th>\n",
              "      <th>C14</th>\n",
              "      <th>C15</th>\n",
              "      <th>Hired</th>\n",
              "    </tr>\n",
              "  </thead>\n",
              "  <tbody>\n",
              "    <tr>\n",
              "      <th>685</th>\n",
              "      <td>b</td>\n",
              "      <td>21.08</td>\n",
              "      <td>10.085</td>\n",
              "      <td>y</td>\n",
              "      <td>p</td>\n",
              "      <td>e</td>\n",
              "      <td>h</td>\n",
              "      <td>1.25</td>\n",
              "      <td>f</td>\n",
              "      <td>f</td>\n",
              "      <td>0</td>\n",
              "      <td>f</td>\n",
              "      <td>g</td>\n",
              "      <td>260</td>\n",
              "      <td>0</td>\n",
              "      <td>0</td>\n",
              "    </tr>\n",
              "    <tr>\n",
              "      <th>686</th>\n",
              "      <td>a</td>\n",
              "      <td>22.67</td>\n",
              "      <td>0.750</td>\n",
              "      <td>u</td>\n",
              "      <td>g</td>\n",
              "      <td>c</td>\n",
              "      <td>v</td>\n",
              "      <td>2.00</td>\n",
              "      <td>f</td>\n",
              "      <td>t</td>\n",
              "      <td>2</td>\n",
              "      <td>t</td>\n",
              "      <td>g</td>\n",
              "      <td>200</td>\n",
              "      <td>394</td>\n",
              "      <td>0</td>\n",
              "    </tr>\n",
              "    <tr>\n",
              "      <th>687</th>\n",
              "      <td>a</td>\n",
              "      <td>25.25</td>\n",
              "      <td>13.500</td>\n",
              "      <td>y</td>\n",
              "      <td>p</td>\n",
              "      <td>ff</td>\n",
              "      <td>ff</td>\n",
              "      <td>2.00</td>\n",
              "      <td>f</td>\n",
              "      <td>t</td>\n",
              "      <td>1</td>\n",
              "      <td>t</td>\n",
              "      <td>g</td>\n",
              "      <td>200</td>\n",
              "      <td>1</td>\n",
              "      <td>0</td>\n",
              "    </tr>\n",
              "    <tr>\n",
              "      <th>688</th>\n",
              "      <td>b</td>\n",
              "      <td>17.92</td>\n",
              "      <td>0.205</td>\n",
              "      <td>u</td>\n",
              "      <td>g</td>\n",
              "      <td>aa</td>\n",
              "      <td>v</td>\n",
              "      <td>0.04</td>\n",
              "      <td>f</td>\n",
              "      <td>f</td>\n",
              "      <td>0</td>\n",
              "      <td>f</td>\n",
              "      <td>g</td>\n",
              "      <td>280</td>\n",
              "      <td>750</td>\n",
              "      <td>0</td>\n",
              "    </tr>\n",
              "    <tr>\n",
              "      <th>689</th>\n",
              "      <td>b</td>\n",
              "      <td>35</td>\n",
              "      <td>3.375</td>\n",
              "      <td>u</td>\n",
              "      <td>g</td>\n",
              "      <td>c</td>\n",
              "      <td>h</td>\n",
              "      <td>8.29</td>\n",
              "      <td>f</td>\n",
              "      <td>f</td>\n",
              "      <td>0</td>\n",
              "      <td>t</td>\n",
              "      <td>g</td>\n",
              "      <td>0</td>\n",
              "      <td>0</td>\n",
              "      <td>0</td>\n",
              "    </tr>\n",
              "  </tbody>\n",
              "</table>\n",
              "</div>\n",
              "    <div class=\"colab-df-buttons\">\n",
              "\n",
              "  <div class=\"colab-df-container\">\n",
              "    <button class=\"colab-df-convert\" onclick=\"convertToInteractive('df-4a8e5fe6-a1bf-4d30-b63d-9a2da26ad705')\"\n",
              "            title=\"Convert this dataframe to an interactive table.\"\n",
              "            style=\"display:none;\">\n",
              "\n",
              "  <svg xmlns=\"http://www.w3.org/2000/svg\" height=\"24px\" viewBox=\"0 -960 960 960\">\n",
              "    <path d=\"M120-120v-720h720v720H120Zm60-500h600v-160H180v160Zm220 220h160v-160H400v160Zm0 220h160v-160H400v160ZM180-400h160v-160H180v160Zm440 0h160v-160H620v160ZM180-180h160v-160H180v160Zm440 0h160v-160H620v160Z\"/>\n",
              "  </svg>\n",
              "    </button>\n",
              "\n",
              "  <style>\n",
              "    .colab-df-container {\n",
              "      display:flex;\n",
              "      gap: 12px;\n",
              "    }\n",
              "\n",
              "    .colab-df-convert {\n",
              "      background-color: #E8F0FE;\n",
              "      border: none;\n",
              "      border-radius: 50%;\n",
              "      cursor: pointer;\n",
              "      display: none;\n",
              "      fill: #1967D2;\n",
              "      height: 32px;\n",
              "      padding: 0 0 0 0;\n",
              "      width: 32px;\n",
              "    }\n",
              "\n",
              "    .colab-df-convert:hover {\n",
              "      background-color: #E2EBFA;\n",
              "      box-shadow: 0px 1px 2px rgba(60, 64, 67, 0.3), 0px 1px 3px 1px rgba(60, 64, 67, 0.15);\n",
              "      fill: #174EA6;\n",
              "    }\n",
              "\n",
              "    .colab-df-buttons div {\n",
              "      margin-bottom: 4px;\n",
              "    }\n",
              "\n",
              "    [theme=dark] .colab-df-convert {\n",
              "      background-color: #3B4455;\n",
              "      fill: #D2E3FC;\n",
              "    }\n",
              "\n",
              "    [theme=dark] .colab-df-convert:hover {\n",
              "      background-color: #434B5C;\n",
              "      box-shadow: 0px 1px 3px 1px rgba(0, 0, 0, 0.15);\n",
              "      filter: drop-shadow(0px 1px 2px rgba(0, 0, 0, 0.3));\n",
              "      fill: #FFFFFF;\n",
              "    }\n",
              "  </style>\n",
              "\n",
              "    <script>\n",
              "      const buttonEl =\n",
              "        document.querySelector('#df-4a8e5fe6-a1bf-4d30-b63d-9a2da26ad705 button.colab-df-convert');\n",
              "      buttonEl.style.display =\n",
              "        google.colab.kernel.accessAllowed ? 'block' : 'none';\n",
              "\n",
              "      async function convertToInteractive(key) {\n",
              "        const element = document.querySelector('#df-4a8e5fe6-a1bf-4d30-b63d-9a2da26ad705');\n",
              "        const dataTable =\n",
              "          await google.colab.kernel.invokeFunction('convertToInteractive',\n",
              "                                                    [key], {});\n",
              "        if (!dataTable) return;\n",
              "\n",
              "        const docLinkHtml = 'Like what you see? Visit the ' +\n",
              "          '<a target=\"_blank\" href=https://colab.research.google.com/notebooks/data_table.ipynb>data table notebook</a>'\n",
              "          + ' to learn more about interactive tables.';\n",
              "        element.innerHTML = '';\n",
              "        dataTable['output_type'] = 'display_data';\n",
              "        await google.colab.output.renderOutput(dataTable, element);\n",
              "        const docLink = document.createElement('div');\n",
              "        docLink.innerHTML = docLinkHtml;\n",
              "        element.appendChild(docLink);\n",
              "      }\n",
              "    </script>\n",
              "  </div>\n",
              "\n",
              "\n",
              "<div id=\"df-ddeb7ecc-1747-41b7-a91e-9d86b6d80603\">\n",
              "  <button class=\"colab-df-quickchart\" onclick=\"quickchart('df-ddeb7ecc-1747-41b7-a91e-9d86b6d80603')\"\n",
              "            title=\"Suggest charts.\"\n",
              "            style=\"display:none;\">\n",
              "\n",
              "<svg xmlns=\"http://www.w3.org/2000/svg\" height=\"24px\"viewBox=\"0 0 24 24\"\n",
              "     width=\"24px\">\n",
              "    <g>\n",
              "        <path d=\"M19 3H5c-1.1 0-2 .9-2 2v14c0 1.1.9 2 2 2h14c1.1 0 2-.9 2-2V5c0-1.1-.9-2-2-2zM9 17H7v-7h2v7zm4 0h-2V7h2v10zm4 0h-2v-4h2v4z\"/>\n",
              "    </g>\n",
              "</svg>\n",
              "  </button>\n",
              "\n",
              "<style>\n",
              "  .colab-df-quickchart {\n",
              "      --bg-color: #E8F0FE;\n",
              "      --fill-color: #1967D2;\n",
              "      --hover-bg-color: #E2EBFA;\n",
              "      --hover-fill-color: #174EA6;\n",
              "      --disabled-fill-color: #AAA;\n",
              "      --disabled-bg-color: #DDD;\n",
              "  }\n",
              "\n",
              "  [theme=dark] .colab-df-quickchart {\n",
              "      --bg-color: #3B4455;\n",
              "      --fill-color: #D2E3FC;\n",
              "      --hover-bg-color: #434B5C;\n",
              "      --hover-fill-color: #FFFFFF;\n",
              "      --disabled-bg-color: #3B4455;\n",
              "      --disabled-fill-color: #666;\n",
              "  }\n",
              "\n",
              "  .colab-df-quickchart {\n",
              "    background-color: var(--bg-color);\n",
              "    border: none;\n",
              "    border-radius: 50%;\n",
              "    cursor: pointer;\n",
              "    display: none;\n",
              "    fill: var(--fill-color);\n",
              "    height: 32px;\n",
              "    padding: 0;\n",
              "    width: 32px;\n",
              "  }\n",
              "\n",
              "  .colab-df-quickchart:hover {\n",
              "    background-color: var(--hover-bg-color);\n",
              "    box-shadow: 0 1px 2px rgba(60, 64, 67, 0.3), 0 1px 3px 1px rgba(60, 64, 67, 0.15);\n",
              "    fill: var(--button-hover-fill-color);\n",
              "  }\n",
              "\n",
              "  .colab-df-quickchart-complete:disabled,\n",
              "  .colab-df-quickchart-complete:disabled:hover {\n",
              "    background-color: var(--disabled-bg-color);\n",
              "    fill: var(--disabled-fill-color);\n",
              "    box-shadow: none;\n",
              "  }\n",
              "\n",
              "  .colab-df-spinner {\n",
              "    border: 2px solid var(--fill-color);\n",
              "    border-color: transparent;\n",
              "    border-bottom-color: var(--fill-color);\n",
              "    animation:\n",
              "      spin 1s steps(1) infinite;\n",
              "  }\n",
              "\n",
              "  @keyframes spin {\n",
              "    0% {\n",
              "      border-color: transparent;\n",
              "      border-bottom-color: var(--fill-color);\n",
              "      border-left-color: var(--fill-color);\n",
              "    }\n",
              "    20% {\n",
              "      border-color: transparent;\n",
              "      border-left-color: var(--fill-color);\n",
              "      border-top-color: var(--fill-color);\n",
              "    }\n",
              "    30% {\n",
              "      border-color: transparent;\n",
              "      border-left-color: var(--fill-color);\n",
              "      border-top-color: var(--fill-color);\n",
              "      border-right-color: var(--fill-color);\n",
              "    }\n",
              "    40% {\n",
              "      border-color: transparent;\n",
              "      border-right-color: var(--fill-color);\n",
              "      border-top-color: var(--fill-color);\n",
              "    }\n",
              "    60% {\n",
              "      border-color: transparent;\n",
              "      border-right-color: var(--fill-color);\n",
              "    }\n",
              "    80% {\n",
              "      border-color: transparent;\n",
              "      border-right-color: var(--fill-color);\n",
              "      border-bottom-color: var(--fill-color);\n",
              "    }\n",
              "    90% {\n",
              "      border-color: transparent;\n",
              "      border-bottom-color: var(--fill-color);\n",
              "    }\n",
              "  }\n",
              "</style>\n",
              "\n",
              "  <script>\n",
              "    async function quickchart(key) {\n",
              "      const quickchartButtonEl =\n",
              "        document.querySelector('#' + key + ' button');\n",
              "      quickchartButtonEl.disabled = true;  // To prevent multiple clicks.\n",
              "      quickchartButtonEl.classList.add('colab-df-spinner');\n",
              "      try {\n",
              "        const charts = await google.colab.kernel.invokeFunction(\n",
              "            'suggestCharts', [key], {});\n",
              "      } catch (error) {\n",
              "        console.error('Error during call to suggestCharts:', error);\n",
              "      }\n",
              "      quickchartButtonEl.classList.remove('colab-df-spinner');\n",
              "      quickchartButtonEl.classList.add('colab-df-quickchart-complete');\n",
              "    }\n",
              "    (() => {\n",
              "      let quickchartButtonEl =\n",
              "        document.querySelector('#df-ddeb7ecc-1747-41b7-a91e-9d86b6d80603 button');\n",
              "      quickchartButtonEl.style.display =\n",
              "        google.colab.kernel.accessAllowed ? 'block' : 'none';\n",
              "    })();\n",
              "  </script>\n",
              "</div>\n",
              "    </div>\n",
              "  </div>\n"
            ]
          },
          "metadata": {},
          "execution_count": 111
        }
      ]
    },
    {
      "cell_type": "code",
      "source": [
        "#finding the column names\n",
        "df.columns"
      ],
      "metadata": {
        "colab": {
          "base_uri": "https://localhost:8080/"
        },
        "id": "VQuVnVGy4p_g",
        "outputId": "8c8d6340-fe67-4aa8-c25d-630a136e9106"
      },
      "execution_count": null,
      "outputs": [
        {
          "output_type": "execute_result",
          "data": {
            "text/plain": [
              "Index(['C1', 'C2', 'C3', 'C4', 'C5', 'C6', 'C7', 'C8', 'C9', 'C10', 'C11',\n",
              "       'C12', 'C13', 'C14', 'C15', 'Hired'],\n",
              "      dtype='object')"
            ]
          },
          "metadata": {},
          "execution_count": 112
        }
      ]
    },
    {
      "cell_type": "code",
      "source": [
        "df.info()"
      ],
      "metadata": {
        "colab": {
          "base_uri": "https://localhost:8080/"
        },
        "id": "0EOudKZ7xAwx",
        "outputId": "013823eb-b013-4c76-e8e4-f3b5391627b5"
      },
      "execution_count": null,
      "outputs": [
        {
          "output_type": "stream",
          "name": "stdout",
          "text": [
            "<class 'pandas.core.frame.DataFrame'>\n",
            "RangeIndex: 690 entries, 0 to 689\n",
            "Data columns (total 16 columns):\n",
            " #   Column  Non-Null Count  Dtype  \n",
            "---  ------  --------------  -----  \n",
            " 0   C1      690 non-null    object \n",
            " 1   C2      690 non-null    object \n",
            " 2   C3      690 non-null    float64\n",
            " 3   C4      690 non-null    object \n",
            " 4   C5      690 non-null    object \n",
            " 5   C6      690 non-null    object \n",
            " 6   C7      690 non-null    object \n",
            " 7   C8      690 non-null    float64\n",
            " 8   C9      690 non-null    object \n",
            " 9   C10     690 non-null    object \n",
            " 10  C11     690 non-null    int64  \n",
            " 11  C12     690 non-null    object \n",
            " 12  C13     690 non-null    object \n",
            " 13  C14     690 non-null    object \n",
            " 14  C15     690 non-null    int64  \n",
            " 15  Hired   690 non-null    int64  \n",
            "dtypes: float64(2), int64(3), object(11)\n",
            "memory usage: 86.4+ KB\n"
          ]
        }
      ]
    },
    {
      "cell_type": "code",
      "source": [
        "\n",
        "#delete\n",
        "#Basic statistical analysis of dataset\n",
        "df.describe()"
      ],
      "metadata": {
        "colab": {
          "base_uri": "https://localhost:8080/",
          "height": 300
        },
        "id": "lS_XYHCmiWIF",
        "outputId": "95ca34d7-dcd0-4b9a-85ed-3719937f1d6c"
      },
      "execution_count": null,
      "outputs": [
        {
          "output_type": "execute_result",
          "data": {
            "text/plain": [
              "               C3          C8        C11            C15       Hired\n",
              "count  690.000000  690.000000  690.00000     690.000000  690.000000\n",
              "mean     4.758725    2.223406    2.40000    1017.385507    0.444928\n",
              "std      4.978163    3.346513    4.86294    5210.102598    0.497318\n",
              "min      0.000000    0.000000    0.00000       0.000000    0.000000\n",
              "25%      1.000000    0.165000    0.00000       0.000000    0.000000\n",
              "50%      2.750000    1.000000    0.00000       5.000000    0.000000\n",
              "75%      7.207500    2.625000    3.00000     395.500000    1.000000\n",
              "max     28.000000   28.500000   67.00000  100000.000000    1.000000"
            ],
            "text/html": [
              "\n",
              "  <div id=\"df-2f312870-3a44-41e4-b156-38593405c3d7\" class=\"colab-df-container\">\n",
              "    <div>\n",
              "<style scoped>\n",
              "    .dataframe tbody tr th:only-of-type {\n",
              "        vertical-align: middle;\n",
              "    }\n",
              "\n",
              "    .dataframe tbody tr th {\n",
              "        vertical-align: top;\n",
              "    }\n",
              "\n",
              "    .dataframe thead th {\n",
              "        text-align: right;\n",
              "    }\n",
              "</style>\n",
              "<table border=\"1\" class=\"dataframe\">\n",
              "  <thead>\n",
              "    <tr style=\"text-align: right;\">\n",
              "      <th></th>\n",
              "      <th>C3</th>\n",
              "      <th>C8</th>\n",
              "      <th>C11</th>\n",
              "      <th>C15</th>\n",
              "      <th>Hired</th>\n",
              "    </tr>\n",
              "  </thead>\n",
              "  <tbody>\n",
              "    <tr>\n",
              "      <th>count</th>\n",
              "      <td>690.000000</td>\n",
              "      <td>690.000000</td>\n",
              "      <td>690.00000</td>\n",
              "      <td>690.000000</td>\n",
              "      <td>690.000000</td>\n",
              "    </tr>\n",
              "    <tr>\n",
              "      <th>mean</th>\n",
              "      <td>4.758725</td>\n",
              "      <td>2.223406</td>\n",
              "      <td>2.40000</td>\n",
              "      <td>1017.385507</td>\n",
              "      <td>0.444928</td>\n",
              "    </tr>\n",
              "    <tr>\n",
              "      <th>std</th>\n",
              "      <td>4.978163</td>\n",
              "      <td>3.346513</td>\n",
              "      <td>4.86294</td>\n",
              "      <td>5210.102598</td>\n",
              "      <td>0.497318</td>\n",
              "    </tr>\n",
              "    <tr>\n",
              "      <th>min</th>\n",
              "      <td>0.000000</td>\n",
              "      <td>0.000000</td>\n",
              "      <td>0.00000</td>\n",
              "      <td>0.000000</td>\n",
              "      <td>0.000000</td>\n",
              "    </tr>\n",
              "    <tr>\n",
              "      <th>25%</th>\n",
              "      <td>1.000000</td>\n",
              "      <td>0.165000</td>\n",
              "      <td>0.00000</td>\n",
              "      <td>0.000000</td>\n",
              "      <td>0.000000</td>\n",
              "    </tr>\n",
              "    <tr>\n",
              "      <th>50%</th>\n",
              "      <td>2.750000</td>\n",
              "      <td>1.000000</td>\n",
              "      <td>0.00000</td>\n",
              "      <td>5.000000</td>\n",
              "      <td>0.000000</td>\n",
              "    </tr>\n",
              "    <tr>\n",
              "      <th>75%</th>\n",
              "      <td>7.207500</td>\n",
              "      <td>2.625000</td>\n",
              "      <td>3.00000</td>\n",
              "      <td>395.500000</td>\n",
              "      <td>1.000000</td>\n",
              "    </tr>\n",
              "    <tr>\n",
              "      <th>max</th>\n",
              "      <td>28.000000</td>\n",
              "      <td>28.500000</td>\n",
              "      <td>67.00000</td>\n",
              "      <td>100000.000000</td>\n",
              "      <td>1.000000</td>\n",
              "    </tr>\n",
              "  </tbody>\n",
              "</table>\n",
              "</div>\n",
              "    <div class=\"colab-df-buttons\">\n",
              "\n",
              "  <div class=\"colab-df-container\">\n",
              "    <button class=\"colab-df-convert\" onclick=\"convertToInteractive('df-2f312870-3a44-41e4-b156-38593405c3d7')\"\n",
              "            title=\"Convert this dataframe to an interactive table.\"\n",
              "            style=\"display:none;\">\n",
              "\n",
              "  <svg xmlns=\"http://www.w3.org/2000/svg\" height=\"24px\" viewBox=\"0 -960 960 960\">\n",
              "    <path d=\"M120-120v-720h720v720H120Zm60-500h600v-160H180v160Zm220 220h160v-160H400v160Zm0 220h160v-160H400v160ZM180-400h160v-160H180v160Zm440 0h160v-160H620v160ZM180-180h160v-160H180v160Zm440 0h160v-160H620v160Z\"/>\n",
              "  </svg>\n",
              "    </button>\n",
              "\n",
              "  <style>\n",
              "    .colab-df-container {\n",
              "      display:flex;\n",
              "      gap: 12px;\n",
              "    }\n",
              "\n",
              "    .colab-df-convert {\n",
              "      background-color: #E8F0FE;\n",
              "      border: none;\n",
              "      border-radius: 50%;\n",
              "      cursor: pointer;\n",
              "      display: none;\n",
              "      fill: #1967D2;\n",
              "      height: 32px;\n",
              "      padding: 0 0 0 0;\n",
              "      width: 32px;\n",
              "    }\n",
              "\n",
              "    .colab-df-convert:hover {\n",
              "      background-color: #E2EBFA;\n",
              "      box-shadow: 0px 1px 2px rgba(60, 64, 67, 0.3), 0px 1px 3px 1px rgba(60, 64, 67, 0.15);\n",
              "      fill: #174EA6;\n",
              "    }\n",
              "\n",
              "    .colab-df-buttons div {\n",
              "      margin-bottom: 4px;\n",
              "    }\n",
              "\n",
              "    [theme=dark] .colab-df-convert {\n",
              "      background-color: #3B4455;\n",
              "      fill: #D2E3FC;\n",
              "    }\n",
              "\n",
              "    [theme=dark] .colab-df-convert:hover {\n",
              "      background-color: #434B5C;\n",
              "      box-shadow: 0px 1px 3px 1px rgba(0, 0, 0, 0.15);\n",
              "      filter: drop-shadow(0px 1px 2px rgba(0, 0, 0, 0.3));\n",
              "      fill: #FFFFFF;\n",
              "    }\n",
              "  </style>\n",
              "\n",
              "    <script>\n",
              "      const buttonEl =\n",
              "        document.querySelector('#df-2f312870-3a44-41e4-b156-38593405c3d7 button.colab-df-convert');\n",
              "      buttonEl.style.display =\n",
              "        google.colab.kernel.accessAllowed ? 'block' : 'none';\n",
              "\n",
              "      async function convertToInteractive(key) {\n",
              "        const element = document.querySelector('#df-2f312870-3a44-41e4-b156-38593405c3d7');\n",
              "        const dataTable =\n",
              "          await google.colab.kernel.invokeFunction('convertToInteractive',\n",
              "                                                    [key], {});\n",
              "        if (!dataTable) return;\n",
              "\n",
              "        const docLinkHtml = 'Like what you see? Visit the ' +\n",
              "          '<a target=\"_blank\" href=https://colab.research.google.com/notebooks/data_table.ipynb>data table notebook</a>'\n",
              "          + ' to learn more about interactive tables.';\n",
              "        element.innerHTML = '';\n",
              "        dataTable['output_type'] = 'display_data';\n",
              "        await google.colab.output.renderOutput(dataTable, element);\n",
              "        const docLink = document.createElement('div');\n",
              "        docLink.innerHTML = docLinkHtml;\n",
              "        element.appendChild(docLink);\n",
              "      }\n",
              "    </script>\n",
              "  </div>\n",
              "\n",
              "\n",
              "<div id=\"df-8b62c9c8-388e-4664-b173-456d7921fc30\">\n",
              "  <button class=\"colab-df-quickchart\" onclick=\"quickchart('df-8b62c9c8-388e-4664-b173-456d7921fc30')\"\n",
              "            title=\"Suggest charts.\"\n",
              "            style=\"display:none;\">\n",
              "\n",
              "<svg xmlns=\"http://www.w3.org/2000/svg\" height=\"24px\"viewBox=\"0 0 24 24\"\n",
              "     width=\"24px\">\n",
              "    <g>\n",
              "        <path d=\"M19 3H5c-1.1 0-2 .9-2 2v14c0 1.1.9 2 2 2h14c1.1 0 2-.9 2-2V5c0-1.1-.9-2-2-2zM9 17H7v-7h2v7zm4 0h-2V7h2v10zm4 0h-2v-4h2v4z\"/>\n",
              "    </g>\n",
              "</svg>\n",
              "  </button>\n",
              "\n",
              "<style>\n",
              "  .colab-df-quickchart {\n",
              "      --bg-color: #E8F0FE;\n",
              "      --fill-color: #1967D2;\n",
              "      --hover-bg-color: #E2EBFA;\n",
              "      --hover-fill-color: #174EA6;\n",
              "      --disabled-fill-color: #AAA;\n",
              "      --disabled-bg-color: #DDD;\n",
              "  }\n",
              "\n",
              "  [theme=dark] .colab-df-quickchart {\n",
              "      --bg-color: #3B4455;\n",
              "      --fill-color: #D2E3FC;\n",
              "      --hover-bg-color: #434B5C;\n",
              "      --hover-fill-color: #FFFFFF;\n",
              "      --disabled-bg-color: #3B4455;\n",
              "      --disabled-fill-color: #666;\n",
              "  }\n",
              "\n",
              "  .colab-df-quickchart {\n",
              "    background-color: var(--bg-color);\n",
              "    border: none;\n",
              "    border-radius: 50%;\n",
              "    cursor: pointer;\n",
              "    display: none;\n",
              "    fill: var(--fill-color);\n",
              "    height: 32px;\n",
              "    padding: 0;\n",
              "    width: 32px;\n",
              "  }\n",
              "\n",
              "  .colab-df-quickchart:hover {\n",
              "    background-color: var(--hover-bg-color);\n",
              "    box-shadow: 0 1px 2px rgba(60, 64, 67, 0.3), 0 1px 3px 1px rgba(60, 64, 67, 0.15);\n",
              "    fill: var(--button-hover-fill-color);\n",
              "  }\n",
              "\n",
              "  .colab-df-quickchart-complete:disabled,\n",
              "  .colab-df-quickchart-complete:disabled:hover {\n",
              "    background-color: var(--disabled-bg-color);\n",
              "    fill: var(--disabled-fill-color);\n",
              "    box-shadow: none;\n",
              "  }\n",
              "\n",
              "  .colab-df-spinner {\n",
              "    border: 2px solid var(--fill-color);\n",
              "    border-color: transparent;\n",
              "    border-bottom-color: var(--fill-color);\n",
              "    animation:\n",
              "      spin 1s steps(1) infinite;\n",
              "  }\n",
              "\n",
              "  @keyframes spin {\n",
              "    0% {\n",
              "      border-color: transparent;\n",
              "      border-bottom-color: var(--fill-color);\n",
              "      border-left-color: var(--fill-color);\n",
              "    }\n",
              "    20% {\n",
              "      border-color: transparent;\n",
              "      border-left-color: var(--fill-color);\n",
              "      border-top-color: var(--fill-color);\n",
              "    }\n",
              "    30% {\n",
              "      border-color: transparent;\n",
              "      border-left-color: var(--fill-color);\n",
              "      border-top-color: var(--fill-color);\n",
              "      border-right-color: var(--fill-color);\n",
              "    }\n",
              "    40% {\n",
              "      border-color: transparent;\n",
              "      border-right-color: var(--fill-color);\n",
              "      border-top-color: var(--fill-color);\n",
              "    }\n",
              "    60% {\n",
              "      border-color: transparent;\n",
              "      border-right-color: var(--fill-color);\n",
              "    }\n",
              "    80% {\n",
              "      border-color: transparent;\n",
              "      border-right-color: var(--fill-color);\n",
              "      border-bottom-color: var(--fill-color);\n",
              "    }\n",
              "    90% {\n",
              "      border-color: transparent;\n",
              "      border-bottom-color: var(--fill-color);\n",
              "    }\n",
              "  }\n",
              "</style>\n",
              "\n",
              "  <script>\n",
              "    async function quickchart(key) {\n",
              "      const quickchartButtonEl =\n",
              "        document.querySelector('#' + key + ' button');\n",
              "      quickchartButtonEl.disabled = true;  // To prevent multiple clicks.\n",
              "      quickchartButtonEl.classList.add('colab-df-spinner');\n",
              "      try {\n",
              "        const charts = await google.colab.kernel.invokeFunction(\n",
              "            'suggestCharts', [key], {});\n",
              "      } catch (error) {\n",
              "        console.error('Error during call to suggestCharts:', error);\n",
              "      }\n",
              "      quickchartButtonEl.classList.remove('colab-df-spinner');\n",
              "      quickchartButtonEl.classList.add('colab-df-quickchart-complete');\n",
              "    }\n",
              "    (() => {\n",
              "      let quickchartButtonEl =\n",
              "        document.querySelector('#df-8b62c9c8-388e-4664-b173-456d7921fc30 button');\n",
              "      quickchartButtonEl.style.display =\n",
              "        google.colab.kernel.accessAllowed ? 'block' : 'none';\n",
              "    })();\n",
              "  </script>\n",
              "</div>\n",
              "    </div>\n",
              "  </div>\n"
            ]
          },
          "metadata": {},
          "execution_count": 114
        }
      ]
    },
    {
      "cell_type": "markdown",
      "source": [
        "From statistical result we can understatnd the basic statistical report of min, max, percentile, mean and standard deviation"
      ],
      "metadata": {
        "id": "nDZ9fun8qSoK"
      }
    },
    {
      "cell_type": "code",
      "source": [
        "#checking for the data is balanced or not\n",
        "df['Hired'].value_counts()"
      ],
      "metadata": {
        "colab": {
          "base_uri": "https://localhost:8080/"
        },
        "id": "S5JtnMwo1yPR",
        "outputId": "b4569697-6bf8-46f7-db0f-fa45955cbe41"
      },
      "execution_count": null,
      "outputs": [
        {
          "output_type": "execute_result",
          "data": {
            "text/plain": [
              "0    383\n",
              "1    307\n",
              "Name: Hired, dtype: int64"
            ]
          },
          "metadata": {},
          "execution_count": 115
        }
      ]
    },
    {
      "cell_type": "markdown",
      "source": [
        "From the above result we can clearly understand that the dataset is balanced."
      ],
      "metadata": {
        "id": "VAPtNylY2rKg"
      }
    },
    {
      "cell_type": "markdown",
      "source": [
        "# **Data Preprocessing**\n",
        "# **Data Cleaning**\n",
        "\n",
        "Data cleaning is the process of identifying and correcting or removing errors, inconsistencies, and inaccuracies in a dataset to improve its quality and ensure that it is ready for analysis. It involves tasks such as handling missing or duplicate data, correcting data types, and removing outliers or irrelevant information."
      ],
      "metadata": {
        "id": "-kdqDTQSpLPz"
      }
    },
    {
      "cell_type": "code",
      "source": [
        "df.C1.unique()"
      ],
      "metadata": {
        "colab": {
          "base_uri": "https://localhost:8080/"
        },
        "id": "aFLTaOEMKx4-",
        "outputId": "39f1da55-fbf5-4998-93a7-ac6448c9d5c4"
      },
      "execution_count": null,
      "outputs": [
        {
          "output_type": "execute_result",
          "data": {
            "text/plain": [
              "array(['b', 'a', '?'], dtype=object)"
            ]
          },
          "metadata": {},
          "execution_count": 116
        }
      ]
    },
    {
      "cell_type": "code",
      "source": [
        "df = df.replace(regex = True, to_replace = '[^0-9.a-z]', value = np.nan)\n",
        "df.C1.unique()"
      ],
      "metadata": {
        "colab": {
          "base_uri": "https://localhost:8080/"
        },
        "id": "DbNeJCh3K9eW",
        "outputId": "3cc0d31a-0335-4df0-f9cb-014656187743"
      },
      "execution_count": null,
      "outputs": [
        {
          "output_type": "execute_result",
          "data": {
            "text/plain": [
              "array(['b', 'a', nan], dtype=object)"
            ]
          },
          "metadata": {},
          "execution_count": 117
        }
      ]
    },
    {
      "cell_type": "code",
      "source": [
        "df.dtypes"
      ],
      "metadata": {
        "colab": {
          "base_uri": "https://localhost:8080/"
        },
        "id": "nN_q-73BMddO",
        "outputId": "30c90c79-8d4d-4ffd-b59a-fb39d99a4698"
      },
      "execution_count": null,
      "outputs": [
        {
          "output_type": "execute_result",
          "data": {
            "text/plain": [
              "C1        object\n",
              "C2        object\n",
              "C3       float64\n",
              "C4        object\n",
              "C5        object\n",
              "C6        object\n",
              "C7        object\n",
              "C8       float64\n",
              "C9        object\n",
              "C10       object\n",
              "C11        int64\n",
              "C12       object\n",
              "C13       object\n",
              "C14       object\n",
              "C15        int64\n",
              "Hired      int64\n",
              "dtype: object"
            ]
          },
          "metadata": {},
          "execution_count": 118
        }
      ]
    },
    {
      "cell_type": "code",
      "source": [
        "# change to correct format\n",
        "df.C2 = df.C2.astype(\"float64\")\n",
        "\n",
        "df.C14 = df.C14.fillna(0)\n",
        "df.C14 = df.C14.astype(\"int64\")"
      ],
      "metadata": {
        "id": "a_BAtnvVLvEL"
      },
      "execution_count": null,
      "outputs": []
    },
    {
      "cell_type": "code",
      "source": [
        "df.dtypes"
      ],
      "metadata": {
        "colab": {
          "base_uri": "https://localhost:8080/"
        },
        "id": "TCLIie6cMuch",
        "outputId": "1dd93ab2-c671-4f93-b5cb-8b7dca06cfe1"
      },
      "execution_count": null,
      "outputs": [
        {
          "output_type": "execute_result",
          "data": {
            "text/plain": [
              "C1        object\n",
              "C2       float64\n",
              "C3       float64\n",
              "C4        object\n",
              "C5        object\n",
              "C6        object\n",
              "C7        object\n",
              "C8       float64\n",
              "C9        object\n",
              "C10       object\n",
              "C11        int64\n",
              "C12       object\n",
              "C13       object\n",
              "C14        int64\n",
              "C15        int64\n",
              "Hired      int64\n",
              "dtype: object"
            ]
          },
          "metadata": {},
          "execution_count": 120
        }
      ]
    },
    {
      "cell_type": "markdown",
      "source": [
        "### **Missing Values**"
      ],
      "metadata": {
        "id": "kE8h84eTpP3d"
      }
    },
    {
      "cell_type": "code",
      "source": [
        "#checking for null values\n",
        "df.isnull().sum()"
      ],
      "metadata": {
        "colab": {
          "base_uri": "https://localhost:8080/"
        },
        "id": "QjgGMubXpIuj",
        "outputId": "ef6b6738-7b72-450a-e4b6-cddf8fe77a03"
      },
      "execution_count": null,
      "outputs": [
        {
          "output_type": "execute_result",
          "data": {
            "text/plain": [
              "C1       12\n",
              "C2       12\n",
              "C3        0\n",
              "C4        6\n",
              "C5        6\n",
              "C6        9\n",
              "C7        9\n",
              "C8        0\n",
              "C9        0\n",
              "C10       0\n",
              "C11       0\n",
              "C12       0\n",
              "C13       0\n",
              "C14       0\n",
              "C15       0\n",
              "Hired     0\n",
              "dtype: int64"
            ]
          },
          "metadata": {},
          "execution_count": 121
        }
      ]
    },
    {
      "cell_type": "markdown",
      "source": [
        "**Column \"C1\"**"
      ],
      "metadata": {
        "id": "Q3UoRlJhNQ-Q"
      }
    },
    {
      "cell_type": "code",
      "source": [
        "df['C1'] = df['C1'].fillna(df['C1'].mode()[0])\n",
        "df = df.drop_duplicates() # code to delete duplicates"
      ],
      "metadata": {
        "id": "mR-oht98NaEl"
      },
      "execution_count": null,
      "outputs": []
    },
    {
      "cell_type": "markdown",
      "source": [
        "### **Outlier Deduction and Correction**\n",
        "**Outlier Detection**\n",
        "1.   Z-Score\n",
        "      Z-Score(x)=(x-mean(x)) / SD(x)\n",
        "      **Threshold Limit**\n",
        "      Z-Score > 3 and Z-Score < -3 ---> Outlier\n",
        "2.   IQR\n",
        "      IQR = Q3(75%)-Q1(25%)\n",
        "      **Upper Threshold** = Q3 + (1.5 * IQR)\n",
        "      **Lower Threshold** = Q1 - (1.5 * IQR)\n",
        "3.   Plotting\n",
        "      Box Plot\n",
        "\n",
        "**Outlier Correction**\n",
        "1.   Deletion\n",
        "2.   Clip/Strip\n"
      ],
      "metadata": {
        "id": "HnFry7JWeZEw"
      }
    },
    {
      "cell_type": "markdown",
      "source": [
        "**Column \"C2\"**"
      ],
      "metadata": {
        "id": "bD1BzY_INY8a"
      }
    },
    {
      "cell_type": "code",
      "source": [
        "df['C2'] = df['C2'].fillna(df['C2'].mean(), downcast=False)"
      ],
      "metadata": {
        "id": "ovT74VaDws6i"
      },
      "execution_count": null,
      "outputs": []
    },
    {
      "cell_type": "code",
      "source": [
        "df.describe()"
      ],
      "metadata": {
        "colab": {
          "base_uri": "https://localhost:8080/",
          "height": 300
        },
        "id": "hZgsXGbaOZXt",
        "outputId": "08b8a6a5-1747-400e-88fe-d612225cd7c1"
      },
      "execution_count": null,
      "outputs": [
        {
          "output_type": "execute_result",
          "data": {
            "text/plain": [
              "               C2          C3          C8        C11          C14  \\\n",
              "count  690.000000  690.000000  690.000000  690.00000   690.000000   \n",
              "mean    31.568171    4.758725    2.223406    2.40000   180.547826   \n",
              "std     11.853273    4.978163    3.346513    4.86294   173.970323   \n",
              "min     13.750000    0.000000    0.000000    0.00000     0.000000   \n",
              "25%     22.670000    1.000000    0.165000    0.00000    60.000000   \n",
              "50%     28.625000    2.750000    1.000000    0.00000   160.000000   \n",
              "75%     37.707500    7.207500    2.625000    3.00000   272.000000   \n",
              "max     80.250000   28.000000   28.500000   67.00000  2000.000000   \n",
              "\n",
              "                 C15       Hired  \n",
              "count     690.000000  690.000000  \n",
              "mean     1017.385507    0.444928  \n",
              "std      5210.102598    0.497318  \n",
              "min         0.000000    0.000000  \n",
              "25%         0.000000    0.000000  \n",
              "50%         5.000000    0.000000  \n",
              "75%       395.500000    1.000000  \n",
              "max    100000.000000    1.000000  "
            ],
            "text/html": [
              "\n",
              "  <div id=\"df-b3625988-3d5d-4d27-874e-74d620a72648\" class=\"colab-df-container\">\n",
              "    <div>\n",
              "<style scoped>\n",
              "    .dataframe tbody tr th:only-of-type {\n",
              "        vertical-align: middle;\n",
              "    }\n",
              "\n",
              "    .dataframe tbody tr th {\n",
              "        vertical-align: top;\n",
              "    }\n",
              "\n",
              "    .dataframe thead th {\n",
              "        text-align: right;\n",
              "    }\n",
              "</style>\n",
              "<table border=\"1\" class=\"dataframe\">\n",
              "  <thead>\n",
              "    <tr style=\"text-align: right;\">\n",
              "      <th></th>\n",
              "      <th>C2</th>\n",
              "      <th>C3</th>\n",
              "      <th>C8</th>\n",
              "      <th>C11</th>\n",
              "      <th>C14</th>\n",
              "      <th>C15</th>\n",
              "      <th>Hired</th>\n",
              "    </tr>\n",
              "  </thead>\n",
              "  <tbody>\n",
              "    <tr>\n",
              "      <th>count</th>\n",
              "      <td>690.000000</td>\n",
              "      <td>690.000000</td>\n",
              "      <td>690.000000</td>\n",
              "      <td>690.00000</td>\n",
              "      <td>690.000000</td>\n",
              "      <td>690.000000</td>\n",
              "      <td>690.000000</td>\n",
              "    </tr>\n",
              "    <tr>\n",
              "      <th>mean</th>\n",
              "      <td>31.568171</td>\n",
              "      <td>4.758725</td>\n",
              "      <td>2.223406</td>\n",
              "      <td>2.40000</td>\n",
              "      <td>180.547826</td>\n",
              "      <td>1017.385507</td>\n",
              "      <td>0.444928</td>\n",
              "    </tr>\n",
              "    <tr>\n",
              "      <th>std</th>\n",
              "      <td>11.853273</td>\n",
              "      <td>4.978163</td>\n",
              "      <td>3.346513</td>\n",
              "      <td>4.86294</td>\n",
              "      <td>173.970323</td>\n",
              "      <td>5210.102598</td>\n",
              "      <td>0.497318</td>\n",
              "    </tr>\n",
              "    <tr>\n",
              "      <th>min</th>\n",
              "      <td>13.750000</td>\n",
              "      <td>0.000000</td>\n",
              "      <td>0.000000</td>\n",
              "      <td>0.00000</td>\n",
              "      <td>0.000000</td>\n",
              "      <td>0.000000</td>\n",
              "      <td>0.000000</td>\n",
              "    </tr>\n",
              "    <tr>\n",
              "      <th>25%</th>\n",
              "      <td>22.670000</td>\n",
              "      <td>1.000000</td>\n",
              "      <td>0.165000</td>\n",
              "      <td>0.00000</td>\n",
              "      <td>60.000000</td>\n",
              "      <td>0.000000</td>\n",
              "      <td>0.000000</td>\n",
              "    </tr>\n",
              "    <tr>\n",
              "      <th>50%</th>\n",
              "      <td>28.625000</td>\n",
              "      <td>2.750000</td>\n",
              "      <td>1.000000</td>\n",
              "      <td>0.00000</td>\n",
              "      <td>160.000000</td>\n",
              "      <td>5.000000</td>\n",
              "      <td>0.000000</td>\n",
              "    </tr>\n",
              "    <tr>\n",
              "      <th>75%</th>\n",
              "      <td>37.707500</td>\n",
              "      <td>7.207500</td>\n",
              "      <td>2.625000</td>\n",
              "      <td>3.00000</td>\n",
              "      <td>272.000000</td>\n",
              "      <td>395.500000</td>\n",
              "      <td>1.000000</td>\n",
              "    </tr>\n",
              "    <tr>\n",
              "      <th>max</th>\n",
              "      <td>80.250000</td>\n",
              "      <td>28.000000</td>\n",
              "      <td>28.500000</td>\n",
              "      <td>67.00000</td>\n",
              "      <td>2000.000000</td>\n",
              "      <td>100000.000000</td>\n",
              "      <td>1.000000</td>\n",
              "    </tr>\n",
              "  </tbody>\n",
              "</table>\n",
              "</div>\n",
              "    <div class=\"colab-df-buttons\">\n",
              "\n",
              "  <div class=\"colab-df-container\">\n",
              "    <button class=\"colab-df-convert\" onclick=\"convertToInteractive('df-b3625988-3d5d-4d27-874e-74d620a72648')\"\n",
              "            title=\"Convert this dataframe to an interactive table.\"\n",
              "            style=\"display:none;\">\n",
              "\n",
              "  <svg xmlns=\"http://www.w3.org/2000/svg\" height=\"24px\" viewBox=\"0 -960 960 960\">\n",
              "    <path d=\"M120-120v-720h720v720H120Zm60-500h600v-160H180v160Zm220 220h160v-160H400v160Zm0 220h160v-160H400v160ZM180-400h160v-160H180v160Zm440 0h160v-160H620v160ZM180-180h160v-160H180v160Zm440 0h160v-160H620v160Z\"/>\n",
              "  </svg>\n",
              "    </button>\n",
              "\n",
              "  <style>\n",
              "    .colab-df-container {\n",
              "      display:flex;\n",
              "      gap: 12px;\n",
              "    }\n",
              "\n",
              "    .colab-df-convert {\n",
              "      background-color: #E8F0FE;\n",
              "      border: none;\n",
              "      border-radius: 50%;\n",
              "      cursor: pointer;\n",
              "      display: none;\n",
              "      fill: #1967D2;\n",
              "      height: 32px;\n",
              "      padding: 0 0 0 0;\n",
              "      width: 32px;\n",
              "    }\n",
              "\n",
              "    .colab-df-convert:hover {\n",
              "      background-color: #E2EBFA;\n",
              "      box-shadow: 0px 1px 2px rgba(60, 64, 67, 0.3), 0px 1px 3px 1px rgba(60, 64, 67, 0.15);\n",
              "      fill: #174EA6;\n",
              "    }\n",
              "\n",
              "    .colab-df-buttons div {\n",
              "      margin-bottom: 4px;\n",
              "    }\n",
              "\n",
              "    [theme=dark] .colab-df-convert {\n",
              "      background-color: #3B4455;\n",
              "      fill: #D2E3FC;\n",
              "    }\n",
              "\n",
              "    [theme=dark] .colab-df-convert:hover {\n",
              "      background-color: #434B5C;\n",
              "      box-shadow: 0px 1px 3px 1px rgba(0, 0, 0, 0.15);\n",
              "      filter: drop-shadow(0px 1px 2px rgba(0, 0, 0, 0.3));\n",
              "      fill: #FFFFFF;\n",
              "    }\n",
              "  </style>\n",
              "\n",
              "    <script>\n",
              "      const buttonEl =\n",
              "        document.querySelector('#df-b3625988-3d5d-4d27-874e-74d620a72648 button.colab-df-convert');\n",
              "      buttonEl.style.display =\n",
              "        google.colab.kernel.accessAllowed ? 'block' : 'none';\n",
              "\n",
              "      async function convertToInteractive(key) {\n",
              "        const element = document.querySelector('#df-b3625988-3d5d-4d27-874e-74d620a72648');\n",
              "        const dataTable =\n",
              "          await google.colab.kernel.invokeFunction('convertToInteractive',\n",
              "                                                    [key], {});\n",
              "        if (!dataTable) return;\n",
              "\n",
              "        const docLinkHtml = 'Like what you see? Visit the ' +\n",
              "          '<a target=\"_blank\" href=https://colab.research.google.com/notebooks/data_table.ipynb>data table notebook</a>'\n",
              "          + ' to learn more about interactive tables.';\n",
              "        element.innerHTML = '';\n",
              "        dataTable['output_type'] = 'display_data';\n",
              "        await google.colab.output.renderOutput(dataTable, element);\n",
              "        const docLink = document.createElement('div');\n",
              "        docLink.innerHTML = docLinkHtml;\n",
              "        element.appendChild(docLink);\n",
              "      }\n",
              "    </script>\n",
              "  </div>\n",
              "\n",
              "\n",
              "<div id=\"df-cc829bb1-0a42-4adc-99a6-12d1221d1eec\">\n",
              "  <button class=\"colab-df-quickchart\" onclick=\"quickchart('df-cc829bb1-0a42-4adc-99a6-12d1221d1eec')\"\n",
              "            title=\"Suggest charts.\"\n",
              "            style=\"display:none;\">\n",
              "\n",
              "<svg xmlns=\"http://www.w3.org/2000/svg\" height=\"24px\"viewBox=\"0 0 24 24\"\n",
              "     width=\"24px\">\n",
              "    <g>\n",
              "        <path d=\"M19 3H5c-1.1 0-2 .9-2 2v14c0 1.1.9 2 2 2h14c1.1 0 2-.9 2-2V5c0-1.1-.9-2-2-2zM9 17H7v-7h2v7zm4 0h-2V7h2v10zm4 0h-2v-4h2v4z\"/>\n",
              "    </g>\n",
              "</svg>\n",
              "  </button>\n",
              "\n",
              "<style>\n",
              "  .colab-df-quickchart {\n",
              "      --bg-color: #E8F0FE;\n",
              "      --fill-color: #1967D2;\n",
              "      --hover-bg-color: #E2EBFA;\n",
              "      --hover-fill-color: #174EA6;\n",
              "      --disabled-fill-color: #AAA;\n",
              "      --disabled-bg-color: #DDD;\n",
              "  }\n",
              "\n",
              "  [theme=dark] .colab-df-quickchart {\n",
              "      --bg-color: #3B4455;\n",
              "      --fill-color: #D2E3FC;\n",
              "      --hover-bg-color: #434B5C;\n",
              "      --hover-fill-color: #FFFFFF;\n",
              "      --disabled-bg-color: #3B4455;\n",
              "      --disabled-fill-color: #666;\n",
              "  }\n",
              "\n",
              "  .colab-df-quickchart {\n",
              "    background-color: var(--bg-color);\n",
              "    border: none;\n",
              "    border-radius: 50%;\n",
              "    cursor: pointer;\n",
              "    display: none;\n",
              "    fill: var(--fill-color);\n",
              "    height: 32px;\n",
              "    padding: 0;\n",
              "    width: 32px;\n",
              "  }\n",
              "\n",
              "  .colab-df-quickchart:hover {\n",
              "    background-color: var(--hover-bg-color);\n",
              "    box-shadow: 0 1px 2px rgba(60, 64, 67, 0.3), 0 1px 3px 1px rgba(60, 64, 67, 0.15);\n",
              "    fill: var(--button-hover-fill-color);\n",
              "  }\n",
              "\n",
              "  .colab-df-quickchart-complete:disabled,\n",
              "  .colab-df-quickchart-complete:disabled:hover {\n",
              "    background-color: var(--disabled-bg-color);\n",
              "    fill: var(--disabled-fill-color);\n",
              "    box-shadow: none;\n",
              "  }\n",
              "\n",
              "  .colab-df-spinner {\n",
              "    border: 2px solid var(--fill-color);\n",
              "    border-color: transparent;\n",
              "    border-bottom-color: var(--fill-color);\n",
              "    animation:\n",
              "      spin 1s steps(1) infinite;\n",
              "  }\n",
              "\n",
              "  @keyframes spin {\n",
              "    0% {\n",
              "      border-color: transparent;\n",
              "      border-bottom-color: var(--fill-color);\n",
              "      border-left-color: var(--fill-color);\n",
              "    }\n",
              "    20% {\n",
              "      border-color: transparent;\n",
              "      border-left-color: var(--fill-color);\n",
              "      border-top-color: var(--fill-color);\n",
              "    }\n",
              "    30% {\n",
              "      border-color: transparent;\n",
              "      border-left-color: var(--fill-color);\n",
              "      border-top-color: var(--fill-color);\n",
              "      border-right-color: var(--fill-color);\n",
              "    }\n",
              "    40% {\n",
              "      border-color: transparent;\n",
              "      border-right-color: var(--fill-color);\n",
              "      border-top-color: var(--fill-color);\n",
              "    }\n",
              "    60% {\n",
              "      border-color: transparent;\n",
              "      border-right-color: var(--fill-color);\n",
              "    }\n",
              "    80% {\n",
              "      border-color: transparent;\n",
              "      border-right-color: var(--fill-color);\n",
              "      border-bottom-color: var(--fill-color);\n",
              "    }\n",
              "    90% {\n",
              "      border-color: transparent;\n",
              "      border-bottom-color: var(--fill-color);\n",
              "    }\n",
              "  }\n",
              "</style>\n",
              "\n",
              "  <script>\n",
              "    async function quickchart(key) {\n",
              "      const quickchartButtonEl =\n",
              "        document.querySelector('#' + key + ' button');\n",
              "      quickchartButtonEl.disabled = true;  // To prevent multiple clicks.\n",
              "      quickchartButtonEl.classList.add('colab-df-spinner');\n",
              "      try {\n",
              "        const charts = await google.colab.kernel.invokeFunction(\n",
              "            'suggestCharts', [key], {});\n",
              "      } catch (error) {\n",
              "        console.error('Error during call to suggestCharts:', error);\n",
              "      }\n",
              "      quickchartButtonEl.classList.remove('colab-df-spinner');\n",
              "      quickchartButtonEl.classList.add('colab-df-quickchart-complete');\n",
              "    }\n",
              "    (() => {\n",
              "      let quickchartButtonEl =\n",
              "        document.querySelector('#df-cc829bb1-0a42-4adc-99a6-12d1221d1eec button');\n",
              "      quickchartButtonEl.style.display =\n",
              "        google.colab.kernel.accessAllowed ? 'block' : 'none';\n",
              "    })();\n",
              "  </script>\n",
              "</div>\n",
              "    </div>\n",
              "  </div>\n"
            ]
          },
          "metadata": {},
          "execution_count": 124
        }
      ]
    },
    {
      "cell_type": "code",
      "source": [
        "#Outlier Detection using Box Plot for \"C2\" Column\n",
        "sns.set(style=\"whitegrid\")\n",
        "sns.boxplot(x=df['C2'], color='Chartreuse')"
      ],
      "metadata": {
        "colab": {
          "base_uri": "https://localhost:8080/",
          "height": 475
        },
        "id": "LVS2rC8FFQZR",
        "outputId": "9cfe6475-291f-4d2b-c7ec-3138a17a5573"
      },
      "execution_count": null,
      "outputs": [
        {
          "output_type": "execute_result",
          "data": {
            "text/plain": [
              "<Axes: xlabel='C2'>"
            ]
          },
          "metadata": {},
          "execution_count": 125
        },
        {
          "output_type": "display_data",
          "data": {
            "text/plain": [
              "<Figure size 640x480 with 1 Axes>"
            ],
            "image/png": "[encoded data removed]"
          },
          "metadata": {}
        }
      ]
    },
    {
      "cell_type": "markdown",
      "source": [
        "From outlier we can see that there are many dots are displayed outside whisker."
      ],
      "metadata": {
        "id": "zBI0dFSaGUG8"
      }
    },
    {
      "cell_type": "code",
      "source": [
        "# removing outlier for 'C2' column\n",
        "iqr = df.C2.quantile(0.75) - df.C2.quantile(0.25)\n",
        "upper_threshold = df.C2.quantile(0.75) + (1.5 * iqr) # q3 + 1.5iqr\n",
        "lower_threshold = df.C2.quantile(0.25) - (1.5 * iqr) # q1 - 1.5iqr\n",
        "upper_threshold,lower_threshold"
      ],
      "metadata": {
        "colab": {
          "base_uri": "https://localhost:8080/"
        },
        "id": "ZIpEVxQON5OH",
        "outputId": "70a32b59-6b87-42d0-b2ff-a43e04365d4b"
      },
      "execution_count": null,
      "outputs": [
        {
          "output_type": "execute_result",
          "data": {
            "text/plain": [
              "(60.26374999999999, 0.11375000000001023)"
            ]
          },
          "metadata": {},
          "execution_count": 126
        }
      ]
    },
    {
      "cell_type": "code",
      "source": [
        "df.C2 = df.C2.clip (lower_threshold, upper_threshold)"
      ],
      "metadata": {
        "id": "Pz8OwaJmOg_y"
      },
      "execution_count": null,
      "outputs": []
    },
    {
      "cell_type": "markdown",
      "source": [
        "**Column \"C3\"**"
      ],
      "metadata": {
        "id": "2usehIfCN3ko"
      }
    },
    {
      "cell_type": "code",
      "source": [
        "#Outlier Detuction using Box Plot for \"C3\" Column\n",
        "sns.set(style=\"whitegrid\")\n",
        "sns.boxplot(x=df['C3'], color='Chartreuse')"
      ],
      "metadata": {
        "colab": {
          "base_uri": "https://localhost:8080/",
          "height": 475
        },
        "id": "a4E2PwYOFsKN",
        "outputId": "84b77405-ff1b-4691-f0f2-a2784a6fcfa1"
      },
      "execution_count": null,
      "outputs": [
        {
          "output_type": "execute_result",
          "data": {
            "text/plain": [
              "<Axes: xlabel='C3'>"
            ]
          },
          "metadata": {},
          "execution_count": 128
        },
        {
          "output_type": "display_data",
          "data": {
            "text/plain": [
              "<Figure size 640x480 with 1 Axes>"
            ],
            "image/png": "[encoded data removed]"
          },
          "metadata": {}
        }
      ]
    },
    {
      "cell_type": "code",
      "source": [
        "# removing outlier for 'C3' column\n",
        "iqr = df.C3.quantile(0.75) - df.C3.quantile(0.25)\n",
        "upper_threshold = df.C3.quantile(0.75) + (1.5 * iqr) # q3 + 1.5iqr\n",
        "lower_threshold = df.C3.quantile(0.25) - (1.5 * iqr) # q1 - 1.5iqr\n",
        "print(upper_threshold,lower_threshold)\n",
        "\n",
        "df.C3 = df.C3.clip (lower_threshold, upper_threshold)"
      ],
      "metadata": {
        "colab": {
          "base_uri": "https://localhost:8080/"
        },
        "id": "a-U7TTdWPD_k",
        "outputId": "17ba5c5d-07d7-4994-bdbe-24d322621653"
      },
      "execution_count": null,
      "outputs": [
        {
          "output_type": "stream",
          "name": "stdout",
          "text": [
            "16.518749999999997 -8.31125\n"
          ]
        }
      ]
    },
    {
      "cell_type": "markdown",
      "source": [
        "**Column \"C4\"**"
      ],
      "metadata": {
        "id": "7qZh3mppPh2x"
      }
    },
    {
      "cell_type": "code",
      "source": [
        "df.C4.unique()\n",
        "df['C4'].value_counts()"
      ],
      "metadata": {
        "colab": {
          "base_uri": "https://localhost:8080/"
        },
        "id": "Iom5tGkqPjnc",
        "outputId": "3ff47ae7-8c19-4edc-8683-defcb072269b"
      },
      "execution_count": null,
      "outputs": [
        {
          "output_type": "execute_result",
          "data": {
            "text/plain": [
              "u    519\n",
              "y    163\n",
              "l      2\n",
              "Name: C4, dtype: int64"
            ]
          },
          "metadata": {},
          "execution_count": 130
        }
      ]
    },
    {
      "cell_type": "code",
      "source": [
        "df['C4'] = df['C4'].fillna(df['C4'].mode()[0])"
      ],
      "metadata": {
        "id": "JKxYBbD7Pjiz"
      },
      "execution_count": null,
      "outputs": []
    },
    {
      "cell_type": "code",
      "source": [
        "df['C4'].value_counts()"
      ],
      "metadata": {
        "colab": {
          "base_uri": "https://localhost:8080/"
        },
        "id": "oW1lwShIPjeN",
        "outputId": "47b2854b-e0b0-4f3d-f856-8d2a2aeda91c"
      },
      "execution_count": null,
      "outputs": [
        {
          "output_type": "execute_result",
          "data": {
            "text/plain": [
              "u    525\n",
              "y    163\n",
              "l      2\n",
              "Name: C4, dtype: int64"
            ]
          },
          "metadata": {},
          "execution_count": 132
        }
      ]
    },
    {
      "cell_type": "markdown",
      "source": [
        "**Column \"C5\"**"
      ],
      "metadata": {
        "id": "4MoJKgZUPhpT"
      }
    },
    {
      "cell_type": "code",
      "source": [
        "df.C5.unique()\n",
        "\n",
        "df['C5'] = df['C5'].fillna(df['C5'].mode()[0])"
      ],
      "metadata": {
        "id": "dzXqQvJpQUcC"
      },
      "execution_count": null,
      "outputs": []
    },
    {
      "cell_type": "markdown",
      "source": [
        "**Column \"C6\"**"
      ],
      "metadata": {
        "id": "WffbplMmQieO"
      }
    },
    {
      "cell_type": "code",
      "source": [
        "df.C6.unique()\n",
        "\n",
        "df['C6'] = df['C6'].fillna(df['C6'].mode()[0])"
      ],
      "metadata": {
        "id": "TyyG_aXwQhq4"
      },
      "execution_count": null,
      "outputs": []
    },
    {
      "cell_type": "markdown",
      "source": [
        "**Column \"C7\"**"
      ],
      "metadata": {
        "id": "tRk2UDqvQz9q"
      }
    },
    {
      "cell_type": "code",
      "source": [
        "df.C7.unique()\n",
        "\n",
        "df['C7'] = df['C7'].fillna(df['C7'].mode()[0])"
      ],
      "metadata": {
        "id": "GufLzPHuQ3uJ"
      },
      "execution_count": null,
      "outputs": []
    },
    {
      "cell_type": "markdown",
      "source": [
        "**Column \"C8\"**"
      ],
      "metadata": {
        "id": "jzrxWk10RC-0"
      }
    },
    {
      "cell_type": "code",
      "source": [
        "#Outlier Detuction using Box Plot for \"C8\" Column\n",
        "sns.set(style=\"whitegrid\")\n",
        "sns.boxplot(x=df['C8'], color='Chartreuse')"
      ],
      "metadata": {
        "colab": {
          "base_uri": "https://localhost:8080/",
          "height": 475
        },
        "id": "CTHFbor3F3DO",
        "outputId": "3c067693-3a82-44a4-a480-ff45241bd528"
      },
      "execution_count": null,
      "outputs": [
        {
          "output_type": "execute_result",
          "data": {
            "text/plain": [
              "<Axes: xlabel='C8'>"
            ]
          },
          "metadata": {},
          "execution_count": 136
        },
        {
          "output_type": "display_data",
          "data": {
            "text/plain": [
              "<Figure size 640x480 with 1 Axes>"
            ],
            "image/png": "[encoded data removed]"
          },
          "metadata": {}
        }
      ]
    },
    {
      "cell_type": "code",
      "source": [
        "# removing outlier for 'C8' column\n",
        "iqr = df.C8.quantile(0.75) - df.C8.quantile(0.25)\n",
        "upper_threshold = df.C8.quantile(0.75) + (1.5 * iqr) # q3 + 1.5iqr\n",
        "lower_threshold = df.C8.quantile(0.25) - (1.5 * iqr) # q1 - 1.5iqr\n",
        "print(upper_threshold,lower_threshold)\n",
        "\n",
        "df.C8 = df.C8.clip (lower_threshold, upper_threshold)"
      ],
      "metadata": {
        "colab": {
          "base_uri": "https://localhost:8080/"
        },
        "id": "UTxP3hCiRD8l",
        "outputId": "abb47066-864e-4fcf-d9d1-fa43b8ede97c"
      },
      "execution_count": null,
      "outputs": [
        {
          "output_type": "stream",
          "name": "stdout",
          "text": [
            "6.3149999999999995 -3.525\n"
          ]
        }
      ]
    },
    {
      "cell_type": "markdown",
      "source": [
        "**column  \"C9\", \"C10\"**"
      ],
      "metadata": {
        "id": "sJgeoGN2R8OM"
      }
    },
    {
      "cell_type": "code",
      "source": [
        "df.C9.unique()\n",
        "\n",
        "df.C10.unique()"
      ],
      "metadata": {
        "colab": {
          "base_uri": "https://localhost:8080/"
        },
        "id": "8t9H5ps0SAdx",
        "outputId": "2cbad505-9a42-4e9b-9dfd-83fda6119d2e"
      },
      "execution_count": null,
      "outputs": [
        {
          "output_type": "execute_result",
          "data": {
            "text/plain": [
              "array(['t', 'f'], dtype=object)"
            ]
          },
          "metadata": {},
          "execution_count": 138
        }
      ]
    },
    {
      "cell_type": "markdown",
      "source": [
        "**Column \"C11\"**"
      ],
      "metadata": {
        "id": "vLZvMljCxz9z"
      }
    },
    {
      "cell_type": "code",
      "source": [
        "#Outlier Detuction using Box Plot for \"C11\" Column\n",
        "sns.set(style=\"whitegrid\")\n",
        "sns.boxplot(x=df['C11'], color='Chartreuse')"
      ],
      "metadata": {
        "colab": {
          "base_uri": "https://localhost:8080/",
          "height": 475
        },
        "id": "pxtOdFf-xxMr",
        "outputId": "e0aa0605-d65b-4ea4-ea7e-9bf5e484306e"
      },
      "execution_count": null,
      "outputs": [
        {
          "output_type": "execute_result",
          "data": {
            "text/plain": [
              "<Axes: xlabel='C11'>"
            ]
          },
          "metadata": {},
          "execution_count": 139
        },
        {
          "output_type": "display_data",
          "data": {
            "text/plain": [
              "<Figure size 640x480 with 1 Axes>"
            ],
            "image/png": "[encoded data removed]"
          },
          "metadata": {}
        }
      ]
    },
    {
      "cell_type": "code",
      "source": [
        "# removing outlier for 'C11' column\n",
        "iqr = df.C11.quantile(0.75) - df.C11.quantile(0.25)\n",
        "upper_threshold = df.C11.quantile(0.75) + (1.5 * iqr) # q3 + 1.5iqr\n",
        "lower_threshold = df.C11.quantile(0.25) - (1.5 * iqr) # q1 - 1.5iqr\n",
        "print(upper_threshold,lower_threshold)\n",
        "\n",
        "df.C11 = df.C11.clip (lower_threshold, upper_threshold)"
      ],
      "metadata": {
        "colab": {
          "base_uri": "https://localhost:8080/"
        },
        "id": "xUD_frsPyT64",
        "outputId": "d37f2c9c-0181-421d-ed68-276467a7dfe5"
      },
      "execution_count": null,
      "outputs": [
        {
          "output_type": "stream",
          "name": "stdout",
          "text": [
            "7.5 -4.5\n"
          ]
        }
      ]
    },
    {
      "cell_type": "markdown",
      "source": [
        "**Column \"C14\"**"
      ],
      "metadata": {
        "id": "-rseu2VLSWRy"
      }
    },
    {
      "cell_type": "code",
      "source": [
        "#Outlier Detuction using Box Plot for \"C14\" Column\n",
        "sns.set(style=\"whitegrid\")\n",
        "sns.boxplot(x=df['C14'], color='Chartreuse')"
      ],
      "metadata": {
        "colab": {
          "base_uri": "https://localhost:8080/",
          "height": 475
        },
        "id": "cVC1F-qIF9ay",
        "outputId": "0a4025fc-8080-4196-ccd3-f01332dd2437"
      },
      "execution_count": null,
      "outputs": [
        {
          "output_type": "execute_result",
          "data": {
            "text/plain": [
              "<Axes: xlabel='C14'>"
            ]
          },
          "metadata": {},
          "execution_count": 141
        },
        {
          "output_type": "display_data",
          "data": {
            "text/plain": [
              "<Figure size 640x480 with 1 Axes>"
            ],
            "image/png": "[encoded data removed]"
          },
          "metadata": {}
        }
      ]
    },
    {
      "cell_type": "code",
      "source": [
        "# removing outlier for 'C14' column\n",
        "iqr = df.C14.quantile(0.75) - df.C14.quantile(0.25)\n",
        "upper_threshold = df.C14.quantile(0.75) + (1.5 * iqr) # q3 + 1.5iqr\n",
        "lower_threshold = df.C14.quantile(0.25) - (1.5 * iqr) # q1 - 1.5iqr\n",
        "print(upper_threshold,lower_threshold)\n",
        "\n",
        "df.C14 = df.C14.clip (int(lower_threshold), int(upper_threshold))"
      ],
      "metadata": {
        "colab": {
          "base_uri": "https://localhost:8080/"
        },
        "id": "cOPL2eQlRYdd",
        "outputId": "59ac25c4-11f8-4e66-c168-23c8a75c70db"
      },
      "execution_count": null,
      "outputs": [
        {
          "output_type": "stream",
          "name": "stdout",
          "text": [
            "590.0 -258.0\n"
          ]
        }
      ]
    },
    {
      "cell_type": "markdown",
      "source": [
        "**Column \"C15\"**"
      ],
      "metadata": {
        "id": "stNLDvo6SyJS"
      }
    },
    {
      "cell_type": "code",
      "source": [
        "#Outlier Detuction using Box Plot for \"C15\" Column\n",
        "sns.set(style=\"whitegrid\")\n",
        "sns.boxplot(x=df['C15'], color='Chartreuse')"
      ],
      "metadata": {
        "colab": {
          "base_uri": "https://localhost:8080/",
          "height": 475
        },
        "id": "kWK4h2vdGBUg",
        "outputId": "45c6aa58-4cb9-4329-e7c2-db1c7b70336d"
      },
      "execution_count": null,
      "outputs": [
        {
          "output_type": "execute_result",
          "data": {
            "text/plain": [
              "<Axes: xlabel='C15'>"
            ]
          },
          "metadata": {},
          "execution_count": 143
        },
        {
          "output_type": "display_data",
          "data": {
            "text/plain": [
              "<Figure size 640x480 with 1 Axes>"
            ],
            "image/png": "[encoded data removed]"
          },
          "metadata": {}
        }
      ]
    },
    {
      "cell_type": "code",
      "source": [
        "# removing outlier for 'C15' column\n",
        "iqr = df.C15.quantile(0.75) - df.C15.quantile(0.25)\n",
        "upper_threshold = df.C15.quantile(0.75) + (1.5 * iqr) # q3 + 1.5iqr\n",
        "lower_threshold = df.C15.quantile(0.25) - (1.5 * iqr) # q1 - 1.5iqr\n",
        "print(upper_threshold,lower_threshold)\n",
        "\n",
        "df.C15 = df.C15.clip (lower_threshold, upper_threshold)"
      ],
      "metadata": {
        "colab": {
          "base_uri": "https://localhost:8080/"
        },
        "id": "PysJAJ81S196",
        "outputId": "d487a72b-edde-486e-b3e7-86f2fe799ff3"
      },
      "execution_count": null,
      "outputs": [
        {
          "output_type": "stream",
          "name": "stdout",
          "text": [
            "988.75 -593.25\n"
          ]
        }
      ]
    },
    {
      "cell_type": "markdown",
      "source": [
        "### **Finding Duplicate Values**"
      ],
      "metadata": {
        "id": "darGjvCUwiSD"
      }
    },
    {
      "cell_type": "code",
      "source": [
        "#checking for no of duplicate values\n",
        "df.duplicated().sum()"
      ],
      "metadata": {
        "colab": {
          "base_uri": "https://localhost:8080/"
        },
        "id": "3iWB5b1bsOjT",
        "outputId": "a638514e-6a3e-42a2-bbce-49e458e5daca"
      },
      "execution_count": null,
      "outputs": [
        {
          "output_type": "execute_result",
          "data": {
            "text/plain": [
              "0"
            ]
          },
          "metadata": {},
          "execution_count": 145
        }
      ]
    },
    {
      "cell_type": "markdown",
      "source": [
        "From the above result we can find zero duplicate data."
      ],
      "metadata": {
        "id": "owMWrB-Yw6Hg"
      }
    },
    {
      "cell_type": "markdown",
      "source": [
        "\n",
        "# **Encoding**"
      ],
      "metadata": {
        "id": "HqT3I49mUPOE"
      }
    },
    {
      "cell_type": "markdown",
      "source": [
        "\n",
        "Encoding for 'C4', 'C5', 'C6', 'C7' column (Label Encoding)"
      ],
      "metadata": {
        "id": "nAiv-ENG5cEw"
      }
    },
    {
      "cell_type": "code",
      "source": [
        "print(\"Unique values of C4 are \\n\", df.C4.value_counts())\n",
        "print(\"\\n Unique values of C5 are \\n\", df.C5.value_counts())\n",
        "print(\"\\n Unique values of C6 are \\n\", df.C6.value_counts())\n",
        "print(\"\\n Unique values of C7 are \\n\", df.C7.value_counts())\n",
        "print(\"\\n Unique values of C13 are \\n\", df.C13.value_counts())"
      ],
      "metadata": {
        "colab": {
          "base_uri": "https://localhost:8080/"
        },
        "id": "UOo8_Pm_6cNH",
        "outputId": "6965cc33-23fc-4653-8fe1-d7abc3bb6459"
      },
      "execution_count": null,
      "outputs": [
        {
          "output_type": "stream",
          "name": "stdout",
          "text": [
            "Unique values of C4 are \n",
            " u    525\n",
            "y    163\n",
            "l      2\n",
            "Name: C4, dtype: int64\n",
            "\n",
            " Unique values of C5 are \n",
            " g     525\n",
            "p     163\n",
            "gg      2\n",
            "Name: C5, dtype: int64\n",
            "\n",
            " Unique values of C6 are \n",
            " c     146\n",
            "q      78\n",
            "w      64\n",
            "i      59\n",
            "aa     54\n",
            "ff     53\n",
            "k      51\n",
            "cc     41\n",
            "m      38\n",
            "x      38\n",
            "d      30\n",
            "e      25\n",
            "j      10\n",
            "r       3\n",
            "Name: C6, dtype: int64\n",
            "\n",
            " Unique values of C7 are \n",
            " v     408\n",
            "h     138\n",
            "bb     59\n",
            "ff     57\n",
            "j       8\n",
            "z       8\n",
            "dd      6\n",
            "n       4\n",
            "o       2\n",
            "Name: C7, dtype: int64\n",
            "\n",
            " Unique values of C13 are \n",
            " g    625\n",
            "s     57\n",
            "p      8\n",
            "Name: C13, dtype: int64\n"
          ]
        }
      ]
    },
    {
      "cell_type": "markdown",
      "source": [
        "From all the above results all values are unique which means there is no incorrect or wrong data that is spelling mistake, upper case and lower case mismatch of each values."
      ],
      "metadata": {
        "id": "p3f55l2YdokS"
      }
    },
    {
      "cell_type": "code",
      "source": [
        "df['C1'] = df['C1'].map({\"b\" : 1, \"a\" : 0})\n",
        "\n",
        "df['C4']=df['C4'].map({'u':1,'y':2,'l':3})\n",
        "\n",
        "df['C5']=df['C5'].map({'g':1,'p':2,'gg':3})\n",
        "\n",
        "df['C6']=df['C6'].map({'c':1,'q':2,'w':3,'i':4,'aa':5,'ff':6,'k':7,'cc':8,'m':9,'x': 10, 'd':11, 'e':12, 'j': 13, \"r\": 14})\n",
        "\n",
        "df['C7']=df['C7'].map({'v':1,'h':2,'bb':3,'ff':4,'j':5,'z':6,'dd':7,'n':8,'o':9})\n",
        "\n",
        "df['C9'] = df['C9'].map({\"t\" : 1, \"f\" : 0})\n",
        "df['C10'] = df['C10'].map({\"t\" : 1, \"f\" : 0})\n",
        "df['C12'] = df['C12'].map({\"f\" : 1, \"t\" : 0})\n",
        "df['C13']=df['C13'].map({'g':1,'s':2,'p':3})\n"
      ],
      "metadata": {
        "id": "EVeqdCqeaKfn"
      },
      "execution_count": null,
      "outputs": []
    },
    {
      "cell_type": "code",
      "source": [
        "df.head()"
      ],
      "metadata": {
        "colab": {
          "base_uri": "https://localhost:8080/",
          "height": 206
        },
        "id": "ZI7-m8kw0dlk",
        "outputId": "1e4b91a9-8722-4a9d-a182-6e32994f01ce"
      },
      "execution_count": null,
      "outputs": [
        {
          "output_type": "execute_result",
          "data": {
            "text/plain": [
              "   C1     C2     C3  C4  C5  C6  C7    C8  C9  C10  C11  C12  C13  C14    C15  \\\n",
              "0   1  30.83  0.000   1   1   3   1  1.25   1    1  1.0    1    1  202    0.0   \n",
              "1   0  58.67  4.460   1   1   2   2  3.04   1    1  6.0    1    1   43  560.0   \n",
              "2   0  24.50  0.500   1   1   2   2  1.50   1    0  0.0    1    1  280  824.0   \n",
              "3   1  27.83  1.540   1   1   3   1  3.75   1    1  5.0    0    1  100    3.0   \n",
              "4   1  20.17  5.625   1   1   3   1  1.71   1    0  0.0    1    2  120    0.0   \n",
              "\n",
              "   Hired  \n",
              "0      1  \n",
              "1      1  \n",
              "2      1  \n",
              "3      1  \n",
              "4      1  "
            ],
            "text/html": [
              "\n",
              "  <div id=\"df-c638d621-459f-4f92-b8f7-21048270363b\" class=\"colab-df-container\">\n",
              "    <div>\n",
              "<style scoped>\n",
              "    .dataframe tbody tr th:only-of-type {\n",
              "        vertical-align: middle;\n",
              "    }\n",
              "\n",
              "    .dataframe tbody tr th {\n",
              "        vertical-align: top;\n",
              "    }\n",
              "\n",
              "    .dataframe thead th {\n",
              "        text-align: right;\n",
              "    }\n",
              "</style>\n",
              "<table border=\"1\" class=\"dataframe\">\n",
              "  <thead>\n",
              "    <tr style=\"text-align: right;\">\n",
              "      <th></th>\n",
              "      <th>C1</th>\n",
              "      <th>C2</th>\n",
              "      <th>C3</th>\n",
              "      <th>C4</th>\n",
              "      <th>C5</th>\n",
              "      <th>C6</th>\n",
              "      <th>C7</th>\n",
              "      <th>C8</th>\n",
              "      <th>C9</th>\n",
              "      <th>C10</th>\n",
              "      <th>C11</th>\n",
              "      <th>C12</th>\n",
              "      <th>C13</th>\n",
              "      <th>C14</th>\n",
              "      <th>C15</th>\n",
              "      <th>Hired</th>\n",
              "    </tr>\n",
              "  </thead>\n",
              "  <tbody>\n",
              "    <tr>\n",
              "      <th>0</th>\n",
              "      <td>1</td>\n",
              "      <td>30.83</td>\n",
              "      <td>0.000</td>\n",
              "      <td>1</td>\n",
              "      <td>1</td>\n",
              "      <td>3</td>\n",
              "      <td>1</td>\n",
              "      <td>1.25</td>\n",
              "      <td>1</td>\n",
              "      <td>1</td>\n",
              "      <td>1.0</td>\n",
              "      <td>1</td>\n",
              "      <td>1</td>\n",
              "      <td>202</td>\n",
              "      <td>0.0</td>\n",
              "      <td>1</td>\n",
              "    </tr>\n",
              "    <tr>\n",
              "      <th>1</th>\n",
              "      <td>0</td>\n",
              "      <td>58.67</td>\n",
              "      <td>4.460</td>\n",
              "      <td>1</td>\n",
              "      <td>1</td>\n",
              "      <td>2</td>\n",
              "      <td>2</td>\n",
              "      <td>3.04</td>\n",
              "      <td>1</td>\n",
              "      <td>1</td>\n",
              "      <td>6.0</td>\n",
              "      <td>1</td>\n",
              "      <td>1</td>\n",
              "      <td>43</td>\n",
              "      <td>560.0</td>\n",
              "      <td>1</td>\n",
              "    </tr>\n",
              "    <tr>\n",
              "      <th>2</th>\n",
              "      <td>0</td>\n",
              "      <td>24.50</td>\n",
              "      <td>0.500</td>\n",
              "      <td>1</td>\n",
              "      <td>1</td>\n",
              "      <td>2</td>\n",
              "      <td>2</td>\n",
              "      <td>1.50</td>\n",
              "      <td>1</td>\n",
              "      <td>0</td>\n",
              "      <td>0.0</td>\n",
              "      <td>1</td>\n",
              "      <td>1</td>\n",
              "      <td>280</td>\n",
              "      <td>824.0</td>\n",
              "      <td>1</td>\n",
              "    </tr>\n",
              "    <tr>\n",
              "      <th>3</th>\n",
              "      <td>1</td>\n",
              "      <td>27.83</td>\n",
              "      <td>1.540</td>\n",
              "      <td>1</td>\n",
              "      <td>1</td>\n",
              "      <td>3</td>\n",
              "      <td>1</td>\n",
              "      <td>3.75</td>\n",
              "      <td>1</td>\n",
              "      <td>1</td>\n",
              "      <td>5.0</td>\n",
              "      <td>0</td>\n",
              "      <td>1</td>\n",
              "      <td>100</td>\n",
              "      <td>3.0</td>\n",
              "      <td>1</td>\n",
              "    </tr>\n",
              "    <tr>\n",
              "      <th>4</th>\n",
              "      <td>1</td>\n",
              "      <td>20.17</td>\n",
              "      <td>5.625</td>\n",
              "      <td>1</td>\n",
              "      <td>1</td>\n",
              "      <td>3</td>\n",
              "      <td>1</td>\n",
              "      <td>1.71</td>\n",
              "      <td>1</td>\n",
              "      <td>0</td>\n",
              "      <td>0.0</td>\n",
              "      <td>1</td>\n",
              "      <td>2</td>\n",
              "      <td>120</td>\n",
              "      <td>0.0</td>\n",
              "      <td>1</td>\n",
              "    </tr>\n",
              "  </tbody>\n",
              "</table>\n",
              "</div>\n",
              "    <div class=\"colab-df-buttons\">\n",
              "\n",
              "  <div class=\"colab-df-container\">\n",
              "    <button class=\"colab-df-convert\" onclick=\"convertToInteractive('df-c638d621-459f-4f92-b8f7-21048270363b')\"\n",
              "            title=\"Convert this dataframe to an interactive table.\"\n",
              "            style=\"display:none;\">\n",
              "\n",
              "  <svg xmlns=\"http://www.w3.org/2000/svg\" height=\"24px\" viewBox=\"0 -960 960 960\">\n",
              "    <path d=\"M120-120v-720h720v720H120Zm60-500h600v-160H180v160Zm220 220h160v-160H400v160Zm0 220h160v-160H400v160ZM180-400h160v-160H180v160Zm440 0h160v-160H620v160ZM180-180h160v-160H180v160Zm440 0h160v-160H620v160Z\"/>\n",
              "  </svg>\n",
              "    </button>\n",
              "\n",
              "  <style>\n",
              "    .colab-df-container {\n",
              "      display:flex;\n",
              "      gap: 12px;\n",
              "    }\n",
              "\n",
              "    .colab-df-convert {\n",
              "      background-color: #E8F0FE;\n",
              "      border: none;\n",
              "      border-radius: 50%;\n",
              "      cursor: pointer;\n",
              "      display: none;\n",
              "      fill: #1967D2;\n",
              "      height: 32px;\n",
              "      padding: 0 0 0 0;\n",
              "      width: 32px;\n",
              "    }\n",
              "\n",
              "    .colab-df-convert:hover {\n",
              "      background-color: #E2EBFA;\n",
              "      box-shadow: 0px 1px 2px rgba(60, 64, 67, 0.3), 0px 1px 3px 1px rgba(60, 64, 67, 0.15);\n",
              "      fill: #174EA6;\n",
              "    }\n",
              "\n",
              "    .colab-df-buttons div {\n",
              "      margin-bottom: 4px;\n",
              "    }\n",
              "\n",
              "    [theme=dark] .colab-df-convert {\n",
              "      background-color: #3B4455;\n",
              "      fill: #D2E3FC;\n",
              "    }\n",
              "\n",
              "    [theme=dark] .colab-df-convert:hover {\n",
              "      background-color: #434B5C;\n",
              "      box-shadow: 0px 1px 3px 1px rgba(0, 0, 0, 0.15);\n",
              "      filter: drop-shadow(0px 1px 2px rgba(0, 0, 0, 0.3));\n",
              "      fill: #FFFFFF;\n",
              "    }\n",
              "  </style>\n",
              "\n",
              "    <script>\n",
              "      const buttonEl =\n",
              "        document.querySelector('#df-c638d621-459f-4f92-b8f7-21048270363b button.colab-df-convert');\n",
              "      buttonEl.style.display =\n",
              "        google.colab.kernel.accessAllowed ? 'block' : 'none';\n",
              "\n",
              "      async function convertToInteractive(key) {\n",
              "        const element = document.querySelector('#df-c638d621-459f-4f92-b8f7-21048270363b');\n",
              "        const dataTable =\n",
              "          await google.colab.kernel.invokeFunction('convertToInteractive',\n",
              "                                                    [key], {});\n",
              "        if (!dataTable) return;\n",
              "\n",
              "        const docLinkHtml = 'Like what you see? Visit the ' +\n",
              "          '<a target=\"_blank\" href=https://colab.research.google.com/notebooks/data_table.ipynb>data table notebook</a>'\n",
              "          + ' to learn more about interactive tables.';\n",
              "        element.innerHTML = '';\n",
              "        dataTable['output_type'] = 'display_data';\n",
              "        await google.colab.output.renderOutput(dataTable, element);\n",
              "        const docLink = document.createElement('div');\n",
              "        docLink.innerHTML = docLinkHtml;\n",
              "        element.appendChild(docLink);\n",
              "      }\n",
              "    </script>\n",
              "  </div>\n",
              "\n",
              "\n",
              "<div id=\"df-df4aae71-695b-4edc-90e7-939f71914766\">\n",
              "  <button class=\"colab-df-quickchart\" onclick=\"quickchart('df-df4aae71-695b-4edc-90e7-939f71914766')\"\n",
              "            title=\"Suggest charts.\"\n",
              "            style=\"display:none;\">\n",
              "\n",
              "<svg xmlns=\"http://www.w3.org/2000/svg\" height=\"24px\"viewBox=\"0 0 24 24\"\n",
              "     width=\"24px\">\n",
              "    <g>\n",
              "        <path d=\"M19 3H5c-1.1 0-2 .9-2 2v14c0 1.1.9 2 2 2h14c1.1 0 2-.9 2-2V5c0-1.1-.9-2-2-2zM9 17H7v-7h2v7zm4 0h-2V7h2v10zm4 0h-2v-4h2v4z\"/>\n",
              "    </g>\n",
              "</svg>\n",
              "  </button>\n",
              "\n",
              "<style>\n",
              "  .colab-df-quickchart {\n",
              "      --bg-color: #E8F0FE;\n",
              "      --fill-color: #1967D2;\n",
              "      --hover-bg-color: #E2EBFA;\n",
              "      --hover-fill-color: #174EA6;\n",
              "      --disabled-fill-color: #AAA;\n",
              "      --disabled-bg-color: #DDD;\n",
              "  }\n",
              "\n",
              "  [theme=dark] .colab-df-quickchart {\n",
              "      --bg-color: #3B4455;\n",
              "      --fill-color: #D2E3FC;\n",
              "      --hover-bg-color: #434B5C;\n",
              "      --hover-fill-color: #FFFFFF;\n",
              "      --disabled-bg-color: #3B4455;\n",
              "      --disabled-fill-color: #666;\n",
              "  }\n",
              "\n",
              "  .colab-df-quickchart {\n",
              "    background-color: var(--bg-color);\n",
              "    border: none;\n",
              "    border-radius: 50%;\n",
              "    cursor: pointer;\n",
              "    display: none;\n",
              "    fill: var(--fill-color);\n",
              "    height: 32px;\n",
              "    padding: 0;\n",
              "    width: 32px;\n",
              "  }\n",
              "\n",
              "  .colab-df-quickchart:hover {\n",
              "    background-color: var(--hover-bg-color);\n",
              "    box-shadow: 0 1px 2px rgba(60, 64, 67, 0.3), 0 1px 3px 1px rgba(60, 64, 67, 0.15);\n",
              "    fill: var(--button-hover-fill-color);\n",
              "  }\n",
              "\n",
              "  .colab-df-quickchart-complete:disabled,\n",
              "  .colab-df-quickchart-complete:disabled:hover {\n",
              "    background-color: var(--disabled-bg-color);\n",
              "    fill: var(--disabled-fill-color);\n",
              "    box-shadow: none;\n",
              "  }\n",
              "\n",
              "  .colab-df-spinner {\n",
              "    border: 2px solid var(--fill-color);\n",
              "    border-color: transparent;\n",
              "    border-bottom-color: var(--fill-color);\n",
              "    animation:\n",
              "      spin 1s steps(1) infinite;\n",
              "  }\n",
              "\n",
              "  @keyframes spin {\n",
              "    0% {\n",
              "      border-color: transparent;\n",
              "      border-bottom-color: var(--fill-color);\n",
              "      border-left-color: var(--fill-color);\n",
              "    }\n",
              "    20% {\n",
              "      border-color: transparent;\n",
              "      border-left-color: var(--fill-color);\n",
              "      border-top-color: var(--fill-color);\n",
              "    }\n",
              "    30% {\n",
              "      border-color: transparent;\n",
              "      border-left-color: var(--fill-color);\n",
              "      border-top-color: var(--fill-color);\n",
              "      border-right-color: var(--fill-color);\n",
              "    }\n",
              "    40% {\n",
              "      border-color: transparent;\n",
              "      border-right-color: var(--fill-color);\n",
              "      border-top-color: var(--fill-color);\n",
              "    }\n",
              "    60% {\n",
              "      border-color: transparent;\n",
              "      border-right-color: var(--fill-color);\n",
              "    }\n",
              "    80% {\n",
              "      border-color: transparent;\n",
              "      border-right-color: var(--fill-color);\n",
              "      border-bottom-color: var(--fill-color);\n",
              "    }\n",
              "    90% {\n",
              "      border-color: transparent;\n",
              "      border-bottom-color: var(--fill-color);\n",
              "    }\n",
              "  }\n",
              "</style>\n",
              "\n",
              "  <script>\n",
              "    async function quickchart(key) {\n",
              "      const quickchartButtonEl =\n",
              "        document.querySelector('#' + key + ' button');\n",
              "      quickchartButtonEl.disabled = true;  // To prevent multiple clicks.\n",
              "      quickchartButtonEl.classList.add('colab-df-spinner');\n",
              "      try {\n",
              "        const charts = await google.colab.kernel.invokeFunction(\n",
              "            'suggestCharts', [key], {});\n",
              "      } catch (error) {\n",
              "        console.error('Error during call to suggestCharts:', error);\n",
              "      }\n",
              "      quickchartButtonEl.classList.remove('colab-df-spinner');\n",
              "      quickchartButtonEl.classList.add('colab-df-quickchart-complete');\n",
              "    }\n",
              "    (() => {\n",
              "      let quickchartButtonEl =\n",
              "        document.querySelector('#df-df4aae71-695b-4edc-90e7-939f71914766 button');\n",
              "      quickchartButtonEl.style.display =\n",
              "        google.colab.kernel.accessAllowed ? 'block' : 'none';\n",
              "    })();\n",
              "  </script>\n",
              "</div>\n",
              "    </div>\n",
              "  </div>\n"
            ]
          },
          "metadata": {},
          "execution_count": 148
        }
      ]
    },
    {
      "cell_type": "markdown",
      "source": [
        "# **EDA - Exploratory Data Analysis**\n",
        "\n",
        "EDA is an important step in the data analysis process, as it helps to identify potential issues with the data and to develop a deeper understanding of the relationships between variables."
      ],
      "metadata": {
        "id": "bAboNDwNmLPy"
      }
    },
    {
      "cell_type": "markdown",
      "source": [
        "### **Distribution of Feature and Target variable**"
      ],
      "metadata": {
        "id": "If0llQvX1DfV"
      }
    },
    {
      "cell_type": "markdown",
      "source": [
        "Create basic visualizations to understand the data's distribution and characteristics. Since I don't know the column names, I can't make specific plots for each column. However, I create generic visualizations like histograms, bar plots to examine relationships between columns. Libraries like Matplotlib or Seaborn can help."
      ],
      "metadata": {
        "id": "2dN8Kwkq9W8V"
      }
    },
    {
      "cell_type": "markdown",
      "source": [
        "**Column \"C1\"**"
      ],
      "metadata": {
        "id": "ZauHeYvDk1sp"
      }
    },
    {
      "cell_type": "code",
      "source": [
        "sns.countplot(x ='C1', data = df)"
      ],
      "metadata": {
        "colab": {
          "base_uri": "https://localhost:8080/",
          "height": 478
        },
        "id": "6-B5eqVOyhiP",
        "outputId": "4107ea36-66a5-4ee7-b956-486a12d34a1b"
      },
      "execution_count": null,
      "outputs": [
        {
          "output_type": "execute_result",
          "data": {
            "text/plain": [
              "<Axes: xlabel='C1', ylabel='count'>"
            ]
          },
          "metadata": {},
          "execution_count": 149
        },
        {
          "output_type": "display_data",
          "data": {
            "text/plain": [
              "<Figure size 640x480 with 1 Axes>"
            ],
            "image/png": "[encoded data removed]"
          },
          "metadata": {}
        }
      ]
    },
    {
      "cell_type": "markdown",
      "source": [
        "In the above plot, \"b\" : 1,\n",
        "\n",
        "                   \"a\" : 0\n",
        "\n",
        " Most Target : b\n",
        "\n",
        "Least Target :a"
      ],
      "metadata": {
        "id": "0b5VvfX49r3A"
      }
    },
    {
      "cell_type": "markdown",
      "source": [
        "**Column \"C2\"**"
      ],
      "metadata": {
        "id": "MXUI6quDlpdi"
      }
    },
    {
      "cell_type": "code",
      "source": [
        "sns.histplot(data=df, x=df[\"C2\"],bins=20,color='BlueViolet')"
      ],
      "metadata": {
        "colab": {
          "base_uri": "https://localhost:8080/",
          "height": 475
        },
        "id": "iXWkkjQJZT1L",
        "outputId": "af4e638a-1a9b-49fe-a160-98fd7a4be521"
      },
      "execution_count": null,
      "outputs": [
        {
          "output_type": "execute_result",
          "data": {
            "text/plain": [
              "<Axes: xlabel='C2', ylabel='Count'>"
            ]
          },
          "metadata": {},
          "execution_count": 150
        },
        {
          "output_type": "display_data",
          "data": {
            "text/plain": [
              "<Figure size 640x480 with 1 Axes>"
            ],
            "image/png": "[encoded data removed]"
          },
          "metadata": {}
        }
      ]
    },
    {
      "cell_type": "markdown",
      "source": [
        "from the above graph, column \"C2\" heighest values between 20-30"
      ],
      "metadata": {
        "id": "kC4OgJxD99Ra"
      }
    },
    {
      "cell_type": "markdown",
      "source": [
        "**Column \"C3\"**"
      ],
      "metadata": {
        "id": "M6ozcT0mzG8x"
      }
    },
    {
      "cell_type": "code",
      "source": [
        "sns.histplot(data=df, x=df[\"C3\"],bins=20,color='blue')"
      ],
      "metadata": {
        "colab": {
          "base_uri": "https://localhost:8080/",
          "height": 475
        },
        "id": "REgxjrfrzGKZ",
        "outputId": "4b015e6a-2d8c-48d7-8f93-90c598440c8b"
      },
      "execution_count": null,
      "outputs": [
        {
          "output_type": "execute_result",
          "data": {
            "text/plain": [
              "<Axes: xlabel='C3', ylabel='Count'>"
            ]
          },
          "metadata": {},
          "execution_count": 151
        },
        {
          "output_type": "display_data",
          "data": {
            "text/plain": [
              "<Figure size 640x480 with 1 Axes>"
            ],
            "image/png": "[encoded data removed]"
          },
          "metadata": {}
        }
      ]
    },
    {
      "cell_type": "markdown",
      "source": [
        "from the above graph, column \"C3\" heighest values between 0-2.5"
      ],
      "metadata": {
        "id": "07I6BSn4_T3l"
      }
    },
    {
      "cell_type": "markdown",
      "source": [
        "**Column \"C4\"**"
      ],
      "metadata": {
        "id": "dLnjCqL20Z3Z"
      }
    },
    {
      "cell_type": "code",
      "source": [
        "sns.countplot(x ='C4', data = df)"
      ],
      "metadata": {
        "colab": {
          "base_uri": "https://localhost:8080/",
          "height": 475
        },
        "id": "PxA5tgZS2Cyt",
        "outputId": "921f3e19-49f2-479a-aa8b-41935f88445d"
      },
      "execution_count": null,
      "outputs": [
        {
          "output_type": "execute_result",
          "data": {
            "text/plain": [
              "<Axes: xlabel='C4', ylabel='count'>"
            ]
          },
          "metadata": {},
          "execution_count": 152
        },
        {
          "output_type": "display_data",
          "data": {
            "text/plain": [
              "<Figure size 640x480 with 1 Axes>"
            ],
            "image/png": "[encoded data removed]"
          },
          "metadata": {}
        }
      ]
    },
    {
      "cell_type": "markdown",
      "source": [
        "In the above plot,\n",
        "                    'u':1,  'y':2,  'l':3.\n",
        "\n",
        "                   \n",
        "\n",
        "and\n",
        "\n",
        "Most Target : 1 (u)\n",
        "\n",
        "Least Target : 3 (l)"
      ],
      "metadata": {
        "id": "idfi8VKz-SA8"
      }
    },
    {
      "cell_type": "markdown",
      "source": [
        "**Column \"C5\"**"
      ],
      "metadata": {
        "id": "j0WK1qyY0Zda"
      }
    },
    {
      "cell_type": "code",
      "source": [
        "sns.countplot(x ='C5', data = df)"
      ],
      "metadata": {
        "colab": {
          "base_uri": "https://localhost:8080/",
          "height": 475
        },
        "id": "Q792k7sj2kfK",
        "outputId": "b859f8e5-5881-49d1-fb25-decdcea52e13"
      },
      "execution_count": null,
      "outputs": [
        {
          "output_type": "execute_result",
          "data": {
            "text/plain": [
              "<Axes: xlabel='C5', ylabel='count'>"
            ]
          },
          "metadata": {},
          "execution_count": 153
        },
        {
          "output_type": "display_data",
          "data": {
            "text/plain": [
              "<Figure size 640x480 with 1 Axes>"
            ],
            "image/png": "[encoded data removed]"
          },
          "metadata": {}
        }
      ]
    },
    {
      "cell_type": "markdown",
      "source": [
        "In the above plot, 'g':1,'p':2,'gg':3\n",
        "and\n",
        "\n",
        "Most Target : 1 (g)\n",
        "\n",
        "Least Target : 3 (gg)"
      ],
      "metadata": {
        "id": "pfMdYRsEGhn4"
      }
    },
    {
      "cell_type": "markdown",
      "source": [
        "**Column \"C6\"**"
      ],
      "metadata": {
        "id": "l7UhiJEC0Y9m"
      }
    },
    {
      "cell_type": "code",
      "source": [
        "sns.countplot(x ='C6', data = df)"
      ],
      "metadata": {
        "colab": {
          "base_uri": "https://localhost:8080/",
          "height": 475
        },
        "id": "fNLamsLO2pn6",
        "outputId": "d44fbb67-1424-49f3-89b7-0da102d234a3"
      },
      "execution_count": null,
      "outputs": [
        {
          "output_type": "execute_result",
          "data": {
            "text/plain": [
              "<Axes: xlabel='C6', ylabel='count'>"
            ]
          },
          "metadata": {},
          "execution_count": 154
        },
        {
          "output_type": "display_data",
          "data": {
            "text/plain": [
              "<Figure size 640x480 with 1 Axes>"
            ],
            "image/png": "[encoded data removed]"
          },
          "metadata": {}
        }
      ]
    },
    {
      "cell_type": "markdown",
      "source": [
        "In the above plot, 'c':1,'q':2,'w':3,'i':4,'aa':5,'ff':6,'k':7,'cc':8,'m':9,'x': 10, 'd':11, 'e':12, 'j': 13, \"r\": 14\n",
        "\n",
        "Most Target : 1 (c)\n",
        "\n",
        "Least Target : 14 (r)"
      ],
      "metadata": {
        "id": "R--OMhMgGu97"
      }
    },
    {
      "cell_type": "markdown",
      "source": [
        "**Column \"C7\"**"
      ],
      "metadata": {
        "id": "T0w8BqDa0YiS"
      }
    },
    {
      "cell_type": "code",
      "source": [
        "sns.countplot(x ='C7', data = df)"
      ],
      "metadata": {
        "colab": {
          "base_uri": "https://localhost:8080/",
          "height": 475
        },
        "id": "G6dkTGX22so7",
        "outputId": "05f5b9d9-7acb-4818-d747-0ebef38f504a"
      },
      "execution_count": null,
      "outputs": [
        {
          "output_type": "execute_result",
          "data": {
            "text/plain": [
              "<Axes: xlabel='C7', ylabel='count'>"
            ]
          },
          "metadata": {},
          "execution_count": 155
        },
        {
          "output_type": "display_data",
          "data": {
            "text/plain": [
              "<Figure size 640x480 with 1 Axes>"
            ],
            "image/png": "[encoded data removed]"
          },
          "metadata": {}
        }
      ]
    },
    {
      "cell_type": "markdown",
      "source": [
        "In the above plot, ''v':1,'h':2,'bb':3,'ff':4,'j':5,'z':6,'dd':7,'n':8,'o':9\n",
        "\n",
        "Most Target : 1 (v)\n",
        "\n",
        "Least Target : 9 (o)\n",
        "\n"
      ],
      "metadata": {
        "id": "1Nwt1sJvG-lc"
      }
    },
    {
      "cell_type": "markdown",
      "source": [
        "**Column \"C8\"**"
      ],
      "metadata": {
        "id": "kyMnbkIp0YEi"
      }
    },
    {
      "cell_type": "code",
      "source": [
        "sns.histplot(data=df, x=df[\"C8\"],bins=20,color='Lime')"
      ],
      "metadata": {
        "colab": {
          "base_uri": "https://localhost:8080/",
          "height": 475
        },
        "id": "141j0uvO2vRr",
        "outputId": "ba25c08d-57f7-4341-a3e7-50176d56eebe"
      },
      "execution_count": null,
      "outputs": [
        {
          "output_type": "execute_result",
          "data": {
            "text/plain": [
              "<Axes: xlabel='C8', ylabel='Count'>"
            ]
          },
          "metadata": {},
          "execution_count": 156
        },
        {
          "output_type": "display_data",
          "data": {
            "text/plain": [
              "<Figure size 640x480 with 1 Axes>"
            ],
            "image/png": "[encoded data removed]"
          },
          "metadata": {}
        }
      ]
    },
    {
      "cell_type": "markdown",
      "source": [
        "from the above graph, column \"C8\" heighest values between 0-1"
      ],
      "metadata": {
        "id": "uKSpU53v_Wzm"
      }
    },
    {
      "cell_type": "markdown",
      "source": [
        "**Column \"C9\"**"
      ],
      "metadata": {
        "id": "HPjmS6FJ0XfI"
      }
    },
    {
      "cell_type": "code",
      "source": [
        "sns.countplot(x ='C9', data = df)"
      ],
      "metadata": {
        "colab": {
          "base_uri": "https://localhost:8080/",
          "height": 475
        },
        "id": "-oWmBBn23DRf",
        "outputId": "4491aa5b-ea1c-4813-83f6-d788147c1d93"
      },
      "execution_count": null,
      "outputs": [
        {
          "output_type": "execute_result",
          "data": {
            "text/plain": [
              "<Axes: xlabel='C9', ylabel='count'>"
            ]
          },
          "metadata": {},
          "execution_count": 157
        },
        {
          "output_type": "display_data",
          "data": {
            "text/plain": [
              "<Figure size 640x480 with 1 Axes>"
            ],
            "image/png": "[encoded data removed]"
          },
          "metadata": {}
        }
      ]
    },
    {
      "cell_type": "markdown",
      "source": [
        "In the above plot, \"t\" : 1, \"f\" : 0\n",
        "\n",
        "Most Target : 1 (t)\n",
        "\n",
        "Least Target : 0 (f)"
      ],
      "metadata": {
        "id": "oi5vUeqLHZny"
      }
    },
    {
      "cell_type": "markdown",
      "source": [
        "**Column \"C10\"**"
      ],
      "metadata": {
        "id": "3EYy9iXK0W_s"
      }
    },
    {
      "cell_type": "code",
      "source": [
        "sns.countplot(x ='C10', data = df)"
      ],
      "metadata": {
        "colab": {
          "base_uri": "https://localhost:8080/",
          "height": 475
        },
        "id": "EmMTGI6-3Fko",
        "outputId": "4eb53d38-e41f-4d37-ae60-d0386126fb0a"
      },
      "execution_count": null,
      "outputs": [
        {
          "output_type": "execute_result",
          "data": {
            "text/plain": [
              "<Axes: xlabel='C10', ylabel='count'>"
            ]
          },
          "metadata": {},
          "execution_count": 158
        },
        {
          "output_type": "display_data",
          "data": {
            "text/plain": [
              "<Figure size 640x480 with 1 Axes>"
            ],
            "image/png": "[encoded data removed]"
          },
          "metadata": {}
        }
      ]
    },
    {
      "cell_type": "markdown",
      "source": [
        "In the above plot, \"t\" : 1, \"f\" : 0\n",
        "\n",
        "Most Target : 0 (f)\n",
        "\n",
        "Least Target : 1 (t)"
      ],
      "metadata": {
        "id": "yp2mkEN8Hrs2"
      }
    },
    {
      "cell_type": "markdown",
      "source": [
        "**Column \"C11\"**"
      ],
      "metadata": {
        "id": "mAhlfx_Z0WNl"
      }
    },
    {
      "cell_type": "code",
      "source": [
        "sns.histplot(data=df, x=df[\"C11\"],bins=20,color='Magenta')"
      ],
      "metadata": {
        "colab": {
          "base_uri": "https://localhost:8080/",
          "height": 475
        },
        "id": "2eY_Dzh522jd",
        "outputId": "1d881880-2b1b-4fc5-b83c-fc0f866e2ff7"
      },
      "execution_count": null,
      "outputs": [
        {
          "output_type": "execute_result",
          "data": {
            "text/plain": [
              "<Axes: xlabel='C11', ylabel='Count'>"
            ]
          },
          "metadata": {},
          "execution_count": 159
        },
        {
          "output_type": "display_data",
          "data": {
            "text/plain": [
              "<Figure size 640x480 with 1 Axes>"
            ],
            "image/png": "[encoded data removed]"
          },
          "metadata": {}
        }
      ]
    },
    {
      "cell_type": "markdown",
      "source": [
        "In the above plot, majority of the values are \"0\""
      ],
      "metadata": {
        "id": "VcitjxslINAK"
      }
    },
    {
      "cell_type": "markdown",
      "source": [
        "**Column \"C12\"**"
      ],
      "metadata": {
        "id": "iLp61Tqf0Vy0"
      }
    },
    {
      "cell_type": "code",
      "source": [
        "sns.countplot(x ='C12', data = df)"
      ],
      "metadata": {
        "colab": {
          "base_uri": "https://localhost:8080/",
          "height": 475
        },
        "id": "CveB37TD3I_-",
        "outputId": "6f9592f4-f4c6-4e72-f061-e6ad4ff79928"
      },
      "execution_count": null,
      "outputs": [
        {
          "output_type": "execute_result",
          "data": {
            "text/plain": [
              "<Axes: xlabel='C12', ylabel='count'>"
            ]
          },
          "metadata": {},
          "execution_count": 160
        },
        {
          "output_type": "display_data",
          "data": {
            "text/plain": [
              "<Figure size 640x480 with 1 Axes>"
            ],
            "image/png": "[encoded data removed]"
          },
          "metadata": {}
        }
      ]
    },
    {
      "cell_type": "markdown",
      "source": [
        "In the above plot, \"f\" : 1, \"t\" : 0\n",
        "\n",
        "Most Target : 1 (t)\n",
        "\n",
        "Least Target : 0 (f)"
      ],
      "metadata": {
        "id": "fX5YG_XdH7vV"
      }
    },
    {
      "cell_type": "markdown",
      "source": [
        "**Column \"C13\"**"
      ],
      "metadata": {
        "id": "WKCuDP1d0VR_"
      }
    },
    {
      "cell_type": "code",
      "source": [
        "sns.countplot(x ='C13', data = df)"
      ],
      "metadata": {
        "colab": {
          "base_uri": "https://localhost:8080/",
          "height": 475
        },
        "id": "2I6Qm8EK3LpH",
        "outputId": "d5fe490c-123a-4845-b66e-15c9121fde71"
      },
      "execution_count": null,
      "outputs": [
        {
          "output_type": "execute_result",
          "data": {
            "text/plain": [
              "<Axes: xlabel='C13', ylabel='count'>"
            ]
          },
          "metadata": {},
          "execution_count": 161
        },
        {
          "output_type": "display_data",
          "data": {
            "text/plain": [
              "<Figure size 640x480 with 1 Axes>"
            ],
            "image/png": "[encoded data removed]"
          },
          "metadata": {}
        }
      ]
    },
    {
      "cell_type": "markdown",
      "source": [
        "\n",
        "In the above plot, 'g':1,'s':2,'p':3\n",
        "\n",
        "Most Target : 1 (g)\n",
        "\n",
        "Least Target : 0 (p)"
      ],
      "metadata": {
        "id": "N1gpSZ_wIfXx"
      }
    },
    {
      "cell_type": "markdown",
      "source": [
        "**Column \"C14\"**"
      ],
      "metadata": {
        "id": "DgkbSkQM0UoW"
      }
    },
    {
      "cell_type": "code",
      "source": [
        "sns.histplot(data=df, x=df[\"C14\"],bins=20,color='maroon')"
      ],
      "metadata": {
        "colab": {
          "base_uri": "https://localhost:8080/",
          "height": 479
        },
        "id": "3tRStSfJ25WJ",
        "outputId": "9e0323cd-6c60-49ba-dec3-8cedf21ba7c3"
      },
      "execution_count": null,
      "outputs": [
        {
          "output_type": "execute_result",
          "data": {
            "text/plain": [
              "<Axes: xlabel='C14', ylabel='Count'>"
            ]
          },
          "metadata": {},
          "execution_count": 162
        },
        {
          "output_type": "display_data",
          "data": {
            "text/plain": [
              "<Figure size 640x480 with 1 Axes>"
            ],
            "image/png": "[encoded data removed]"
          },
          "metadata": {}
        }
      ]
    },
    {
      "cell_type": "markdown",
      "source": [
        "from the above graph, column \"C14\" heighest values between 0-50"
      ],
      "metadata": {
        "id": "JpRmqGtl_ZUV"
      }
    },
    {
      "cell_type": "markdown",
      "source": [
        "**Column \"C15\"**"
      ],
      "metadata": {
        "id": "gi8si2WB2hzj"
      }
    },
    {
      "cell_type": "code",
      "source": [
        "sns.histplot(data=df, x=df[\"C15\"],bins=20,color='MediumSpringGreen')"
      ],
      "metadata": {
        "colab": {
          "base_uri": "https://localhost:8080/",
          "height": 475
        },
        "id": "QmAULAy42g6h",
        "outputId": "c1f05b44-ac7c-47a1-ff43-0e4dc98137b3"
      },
      "execution_count": null,
      "outputs": [
        {
          "output_type": "execute_result",
          "data": {
            "text/plain": [
              "<Axes: xlabel='C15', ylabel='Count'>"
            ]
          },
          "metadata": {},
          "execution_count": 163
        },
        {
          "output_type": "display_data",
          "data": {
            "text/plain": [
              "<Figure size 640x480 with 1 Axes>"
            ],
            "image/png": "[encoded data removed]"
          },
          "metadata": {}
        }
      ]
    },
    {
      "cell_type": "markdown",
      "source": [
        "from the above graph, column \"C15\" heighest values:0 & 1000"
      ],
      "metadata": {
        "id": "YYHOevGp_aeF"
      }
    },
    {
      "cell_type": "markdown",
      "source": [
        "**Hired**"
      ],
      "metadata": {
        "id": "iAZOIjGkBNvf"
      }
    },
    {
      "cell_type": "code",
      "source": [
        "sns.countplot(x ='Hired', data = df)"
      ],
      "metadata": {
        "colab": {
          "base_uri": "https://localhost:8080/",
          "height": 479
        },
        "id": "9N1t53oZBWuZ",
        "outputId": "aa0d114a-0fa0-4b2e-d640-567e48c6228c"
      },
      "execution_count": null,
      "outputs": [
        {
          "output_type": "execute_result",
          "data": {
            "text/plain": [
              "<Axes: xlabel='Hired', ylabel='count'>"
            ]
          },
          "metadata": {},
          "execution_count": 164
        },
        {
          "output_type": "display_data",
          "data": {
            "text/plain": [
              "<Figure size 640x480 with 1 Axes>"
            ],
            "image/png": "[encoded data removed]"
          },
          "metadata": {}
        }
      ]
    },
    {
      "cell_type": "markdown",
      "source": [
        "No of people hired is less compared to not hired"
      ],
      "metadata": {
        "id": "Ru1ppk20JNCP"
      }
    },
    {
      "cell_type": "markdown",
      "source": [
        "\n",
        "# **Feature and Target Selection**"
      ],
      "metadata": {
        "id": "JSXq9RGOLbdL"
      }
    },
    {
      "cell_type": "code",
      "source": [
        "df.columns"
      ],
      "metadata": {
        "colab": {
          "base_uri": "https://localhost:8080/"
        },
        "id": "YQXr33TsLi2E",
        "outputId": "382fb23f-3b43-44f9-ade8-5c7f09e0966b"
      },
      "execution_count": null,
      "outputs": [
        {
          "output_type": "execute_result",
          "data": {
            "text/plain": [
              "Index(['C1', 'C2', 'C3', 'C4', 'C5', 'C6', 'C7', 'C8', 'C9', 'C10', 'C11',\n",
              "       'C12', 'C13', 'C14', 'C15', 'Hired'],\n",
              "      dtype='object')"
            ]
          },
          "metadata": {},
          "execution_count": 165
        }
      ]
    },
    {
      "cell_type": "code",
      "source": [
        "# X --> Feature y-- > Target\n",
        "\n",
        "x = df[['C1', 'C2', 'C3', 'C4', 'C5', 'C6', 'C7', 'C8', 'C9', 'C10', 'C11',\n",
        "       'C12', 'C13', 'C14', 'C15']].values\n",
        "y=df['Hired'].values"
      ],
      "metadata": {
        "id": "FNE_kGI4LvQW"
      },
      "execution_count": null,
      "outputs": []
    },
    {
      "cell_type": "code",
      "source": [
        "# splitting the data as train and test\n",
        "\n",
        "from sklearn.model_selection import train_test_split\n",
        "x_train, x_test, y_train, y_test = train_test_split(x, y, test_size=0.2,random_state = 3 )\n"
      ],
      "metadata": {
        "id": "7Dn3HgRoamL0"
      },
      "execution_count": null,
      "outputs": []
    },
    {
      "cell_type": "markdown",
      "source": [
        "# **Scaling**"
      ],
      "metadata": {
        "id": "WuBVl2LqwM5d"
      }
    },
    {
      "cell_type": "code",
      "source": [
        "#scaling the data\n",
        "from sklearn.preprocessing import StandardScaler\n",
        "scaler = StandardScaler()\n",
        "x_train_scaled = scaler.fit_transform(x_train)\n",
        "x_test_scaled = scaler.transform(x_test)"
      ],
      "metadata": {
        "id": "kYMNwN0FxqGV"
      },
      "execution_count": null,
      "outputs": []
    },
    {
      "cell_type": "markdown",
      "source": [
        "# **Modelling**"
      ],
      "metadata": {
        "id": "8L4okmHG2XlN"
      }
    },
    {
      "cell_type": "markdown",
      "source": [
        "## **Logistic Regression**\n"
      ],
      "metadata": {
        "id": "ypN1EiLY2Zyk"
      }
    },
    {
      "cell_type": "code",
      "source": [
        "\n",
        "from sklearn.linear_model import LogisticRegression\n",
        "from sklearn.metrics import roc_auc_score\n",
        "\n",
        "lr = LogisticRegression()\n",
        "\n",
        "lr.fit(x_train_scaled,y_train)\n",
        "lr.score(x_test_scaled,y_test)"
      ],
      "metadata": {
        "colab": {
          "base_uri": "https://localhost:8080/"
        },
        "id": "nNhNES_BCwjq",
        "outputId": "8d405cf8-874b-43fc-e654-b3060284dbed"
      },
      "execution_count": null,
      "outputs": [
        {
          "output_type": "execute_result",
          "data": {
            "text/plain": [
              "0.7536231884057971"
            ]
          },
          "metadata": {},
          "execution_count": 169
        }
      ]
    },
    {
      "cell_type": "code",
      "source": [
        "y_pred=lr.predict_proba(x_test_scaled)\n",
        "y_pred"
      ],
      "metadata": {
        "colab": {
          "base_uri": "https://localhost:8080/"
        },
        "id": "Imep20fTDFAy",
        "outputId": "a7e7797b-f8e1-4cc3-aff2-74172864f490"
      },
      "execution_count": null,
      "outputs": [
        {
          "output_type": "execute_result",
          "data": {
            "text/plain": [
              "array([[0.94576256, 0.05423744],\n",
              "       [0.98384504, 0.01615496],\n",
              "       [0.77416678, 0.22583322],\n",
              "       [0.09676833, 0.90323167],\n",
              "       [0.99309533, 0.00690467],\n",
              "       [0.01119935, 0.98880065],\n",
              "       [0.72099888, 0.27900112],\n",
              "       [0.02519361, 0.97480639],\n",
              "       [0.11879745, 0.88120255],\n",
              "       [0.21288367, 0.78711633],\n",
              "       [0.02130682, 0.97869318],\n",
              "       [0.94276001, 0.05723999],\n",
              "       [0.00712796, 0.99287204],\n",
              "       [0.01857388, 0.98142612],\n",
              "       [0.4772501 , 0.5227499 ],\n",
              "       [0.97842136, 0.02157864],\n",
              "       [0.56814333, 0.43185667],\n",
              "       [0.02947543, 0.97052457],\n",
              "       [0.95201558, 0.04798442],\n",
              "       [0.05464306, 0.94535694],\n",
              "       [0.94466154, 0.05533846],\n",
              "       [0.01013811, 0.98986189],\n",
              "       [0.24005292, 0.75994708],\n",
              "       [0.9770408 , 0.0229592 ],\n",
              "       [0.96504517, 0.03495483],\n",
              "       [0.00575344, 0.99424656],\n",
              "       [0.21645914, 0.78354086],\n",
              "       [0.97913151, 0.02086849],\n",
              "       [0.93997538, 0.06002462],\n",
              "       [0.01286011, 0.98713989],\n",
              "       [0.98001128, 0.01998872],\n",
              "       [0.99070213, 0.00929787],\n",
              "       [0.82906786, 0.17093214],\n",
              "       [0.09926561, 0.90073439],\n",
              "       [0.99147093, 0.00852907],\n",
              "       [0.99024163, 0.00975837],\n",
              "       [0.27935624, 0.72064376],\n",
              "       [0.00881103, 0.99118897],\n",
              "       [0.32455219, 0.67544781],\n",
              "       [0.97150033, 0.02849967],\n",
              "       [0.06043602, 0.93956398],\n",
              "       [0.03171743, 0.96828257],\n",
              "       [0.14587246, 0.85412754],\n",
              "       [0.92801107, 0.07198893],\n",
              "       [0.96077604, 0.03922396],\n",
              "       [0.98677738, 0.01322262],\n",
              "       [0.97163681, 0.02836319],\n",
              "       [0.97322005, 0.02677995],\n",
              "       [0.99314284, 0.00685716],\n",
              "       [0.2433189 , 0.7566811 ],\n",
              "       [0.95525884, 0.04474116],\n",
              "       [0.9879937 , 0.0120063 ],\n",
              "       [0.75693629, 0.24306371],\n",
              "       [0.97200867, 0.02799133],\n",
              "       [0.95080774, 0.04919226],\n",
              "       [0.06903152, 0.93096848],\n",
              "       [0.74884183, 0.25115817],\n",
              "       [0.0592952 , 0.9407048 ],\n",
              "       [0.9521508 , 0.0478492 ],\n",
              "       [0.03168268, 0.96831732],\n",
              "       [0.07269309, 0.92730691],\n",
              "       [0.7982813 , 0.2017187 ],\n",
              "       [0.97536062, 0.02463938],\n",
              "       [0.97882432, 0.02117568],\n",
              "       [0.59852484, 0.40147516],\n",
              "       [0.16031493, 0.83968507],\n",
              "       [0.37899817, 0.62100183],\n",
              "       [0.99575134, 0.00424866],\n",
              "       [0.97626883, 0.02373117],\n",
              "       [0.34106453, 0.65893547],\n",
              "       [0.01424008, 0.98575992],\n",
              "       [0.92499559, 0.07500441],\n",
              "       [0.46039505, 0.53960495],\n",
              "       [0.18673542, 0.81326458],\n",
              "       [0.09682285, 0.90317715],\n",
              "       [0.9902145 , 0.0097855 ],\n",
              "       [0.26080044, 0.73919956],\n",
              "       [0.014941  , 0.985059  ],\n",
              "       [0.99265027, 0.00734973],\n",
              "       [0.43408451, 0.56591549],\n",
              "       [0.86742116, 0.13257884],\n",
              "       [0.08105073, 0.91894927],\n",
              "       [0.46258053, 0.53741947],\n",
              "       [0.98324352, 0.01675648],\n",
              "       [0.10583991, 0.89416009],\n",
              "       [0.92979599, 0.07020401],\n",
              "       [0.33192592, 0.66807408],\n",
              "       [0.34519653, 0.65480347],\n",
              "       [0.01372905, 0.98627095],\n",
              "       [0.96826952, 0.03173048],\n",
              "       [0.92510821, 0.07489179],\n",
              "       [0.01658052, 0.98341948],\n",
              "       [0.32013682, 0.67986318],\n",
              "       [0.99136801, 0.00863199],\n",
              "       [0.47761971, 0.52238029],\n",
              "       [0.48737707, 0.51262293],\n",
              "       [0.78446132, 0.21553868],\n",
              "       [0.98717645, 0.01282355],\n",
              "       [0.98474943, 0.01525057],\n",
              "       [0.01312642, 0.98687358],\n",
              "       [0.05708841, 0.94291159],\n",
              "       [0.07453069, 0.92546931],\n",
              "       [0.13163671, 0.86836329],\n",
              "       [0.03010938, 0.96989062],\n",
              "       [0.98638726, 0.01361274],\n",
              "       [0.18313802, 0.81686198],\n",
              "       [0.47888964, 0.52111036],\n",
              "       [0.09208725, 0.90791275],\n",
              "       [0.98639476, 0.01360524],\n",
              "       [0.17233447, 0.82766553],\n",
              "       [0.89236056, 0.10763944],\n",
              "       [0.09407913, 0.90592087],\n",
              "       [0.19715806, 0.80284194],\n",
              "       [0.10692716, 0.89307284],\n",
              "       [0.07572113, 0.92427887],\n",
              "       [0.63585639, 0.36414361],\n",
              "       [0.88802424, 0.11197576],\n",
              "       [0.98476336, 0.01523664],\n",
              "       [0.02365923, 0.97634077],\n",
              "       [0.86335738, 0.13664262],\n",
              "       [0.043574  , 0.956426  ],\n",
              "       [0.32376235, 0.67623765],\n",
              "       [0.96298382, 0.03701618],\n",
              "       [0.32282309, 0.67717691],\n",
              "       [0.28576762, 0.71423238],\n",
              "       [0.03690683, 0.96309317],\n",
              "       [0.18509573, 0.81490427],\n",
              "       [0.11710958, 0.88289042],\n",
              "       [0.2302941 , 0.7697059 ],\n",
              "       [0.19357368, 0.80642632],\n",
              "       [0.89800937, 0.10199063],\n",
              "       [0.91485888, 0.08514112],\n",
              "       [0.57105541, 0.42894459],\n",
              "       [0.01609013, 0.98390987],\n",
              "       [0.9137338 , 0.0862662 ],\n",
              "       [0.01483324, 0.98516676],\n",
              "       [0.98515977, 0.01484023],\n",
              "       [0.00672579, 0.99327421]])"
            ]
          },
          "metadata": {},
          "execution_count": 170
        }
      ]
    },
    {
      "cell_type": "code",
      "source": [
        "log_reg_auroc = roc_auc_score(y_test,y_pred[:,1])\n",
        "print(\"AUROC score for logistic regression  :  \",round(log_reg_auroc,2))"
      ],
      "metadata": {
        "colab": {
          "base_uri": "https://localhost:8080/"
        },
        "id": "bfihA6mZgIwe",
        "outputId": "641545a5-0669-4e51-9e65-2eead3ebff4f"
      },
      "execution_count": null,
      "outputs": [
        {
          "output_type": "stream",
          "name": "stdout",
          "text": [
            "AUROC score for logistic regression  :   0.85\n"
          ]
        }
      ]
    },
    {
      "cell_type": "markdown",
      "source": [
        "## **K-Nearest Neighbour (KNN)**"
      ],
      "metadata": {
        "id": "oAH81lpIrPx_"
      }
    },
    {
      "cell_type": "code",
      "source": [
        "from sklearn.neighbors import KNeighborsClassifier\n",
        "from sklearn.model_selection import cross_val_score\n",
        "for i in [1,2,3,4,5,6,7,8,9,10,20,30,40,50]:\n",
        "  knn= KNeighborsClassifier(i)\n",
        "  knn.fit(x_train_scaled, y_train)\n",
        "  print(\"K value :\", i, \"Train Score : \", knn.score(x_train_scaled,y_train), \"Cross Value Accuracy :\" , np.mean(cross_val_score(knn, x_test_scaled, y_test, cv=10)))"
      ],
      "metadata": {
        "id": "eEINWmLZsk_w",
        "colab": {
          "base_uri": "https://localhost:8080/"
        },
        "outputId": "6954cf05-d73d-4b98-f47e-ad29e6651d33"
      },
      "execution_count": null,
      "outputs": [
        {
          "output_type": "stream",
          "name": "stdout",
          "text": [
            "K value : 1 Train Score :  1.0 Cross Value Accuracy : 0.7549450549450548\n",
            "K value : 2 Train Score :  0.8985507246376812 Cross Value Accuracy : 0.7252747252747253\n",
            "K value : 3 Train Score :  0.9202898550724637 Cross Value Accuracy : 0.7406593406593407\n",
            "K value : 4 Train Score :  0.8894927536231884 Cross Value Accuracy : 0.7835164835164835\n",
            "K value : 5 Train Score :  0.9112318840579711 Cross Value Accuracy : 0.7983516483516484\n",
            "K value : 6 Train Score :  0.8876811594202898 Cross Value Accuracy : 0.8049450549450551\n",
            "K value : 7 Train Score :  0.8967391304347826 Cross Value Accuracy : 0.8120879120879122\n",
            "K value : 8 Train Score :  0.8804347826086957 Cross Value Accuracy : 0.8049450549450551\n",
            "K value : 9 Train Score :  0.8876811594202898 Cross Value Accuracy : 0.8192307692307693\n",
            "K value : 10 Train Score :  0.8713768115942029 Cross Value Accuracy : 0.8043956043956044\n",
            "K value : 20 Train Score :  0.8731884057971014 Cross Value Accuracy : 0.8120879120879121\n",
            "K value : 30 Train Score :  0.8586956521739131 Cross Value Accuracy : 0.7972527472527473\n",
            "K value : 40 Train Score :  0.8478260869565217 Cross Value Accuracy : 0.7978021978021979\n",
            "K value : 50 Train Score :  0.8460144927536232 Cross Value Accuracy : 0.7895604395604396\n"
          ]
        }
      ]
    },
    {
      "cell_type": "markdown",
      "source": [
        "**k=9 is a good cross validation accuracy of 0.819**"
      ],
      "metadata": {
        "id": "W73mHQHgQ_8k"
      }
    },
    {
      "cell_type": "code",
      "source": [
        "knn= KNeighborsClassifier(i)\n",
        "knn.fit(x_train_scaled, y_train)\n",
        "print(\"KNN Score: \",knn.score(x_test_scaled,y_test))\n",
        "print( \"AUROC on the sampled dataset : \",roc_auc_score( y_test, knn.predict_proba(x_test)[:, 1]))\n"
      ],
      "metadata": {
        "id": "Y7OimOQitahW",
        "colab": {
          "base_uri": "https://localhost:8080/"
        },
        "outputId": "5b1d71c5-81a7-4867-dfe4-1b24d8a9c5bb"
      },
      "execution_count": null,
      "outputs": [
        {
          "output_type": "stream",
          "name": "stdout",
          "text": [
            "KNN Score:  0.8043478260869565\n",
            "AUROC on the sampled dataset :  0.7388468013468014\n"
          ]
        }
      ]
    },
    {
      "cell_type": "markdown",
      "source": [
        "## **Decision Tree**"
      ],
      "metadata": {
        "id": "1rOIFWVsI-Vp"
      }
    },
    {
      "cell_type": "code",
      "source": [
        "from sklearn.tree import DecisionTreeClassifier\n",
        "from sklearn.metrics import roc_auc_score"
      ],
      "metadata": {
        "id": "st2Zwy8JJCpb"
      },
      "execution_count": null,
      "outputs": []
    },
    {
      "cell_type": "code",
      "source": [
        "from sklearn.tree import DecisionTreeClassifier\n",
        "from sklearn.metrics import roc_auc_score\n",
        "dt = DecisionTreeClassifier()\n",
        "dt.fit(x_train,y_train)\n",
        "print(\"Decision Tree Score : \", dt.score(x_train,y_train))\n",
        "print( \"AUROC on the sampled dataset : \",roc_auc_score( y_test, dt.predict_proba(x_test)[:, 1]))"
      ],
      "metadata": {
        "colab": {
          "base_uri": "https://localhost:8080/"
        },
        "id": "Nj91qydsJIhN",
        "outputId": "29c71857-c733-4a83-a6df-e353902909c2"
      },
      "execution_count": null,
      "outputs": [
        {
          "output_type": "stream",
          "name": "stdout",
          "text": [
            "Decision Tree Score :  1.0\n",
            "AUROC on the sampled dataset :  0.8042929292929293\n"
          ]
        }
      ]
    },
    {
      "cell_type": "code",
      "source": [
        "from sklearn.metrics import accuracy_score, roc_auc_score\n",
        "from sklearn.model_selection import cross_val_score #this will help me to do cross- validation\n",
        "import numpy as np\n",
        "\n",
        "for depth in [1,2,3,4,5,6,7,8,9,10,20]:\n",
        "  dt = DecisionTreeClassifier(max_depth=depth) # will tell the DT to not grow past the given threhsold\n",
        "  # Fit dt to the training set\n",
        "  dt.fit(x_train, y_train) # the model is trained\n",
        "  trainAccuracy = accuracy_score(y_train, dt.predict(x_train)) # this is useless information - i am showing to prove a point\n",
        "  dt = DecisionTreeClassifier(max_depth=depth) # a fresh model which is not trained yet\n",
        "  valAccuracy = cross_val_score(dt, x_test_scaled, y_test, cv=10) # syntax : cross_val_Score(freshModel,fts, target, cv= 10/5)\n",
        "  print(\"Depth  : \", depth, \" Training Accuracy : \", trainAccuracy, \" Cross val score : \" ,np.mean(valAccuracy))\n"
      ],
      "metadata": {
        "colab": {
          "base_uri": "https://localhost:8080/"
        },
        "id": "ocNFW3IuJ7OV",
        "outputId": "8420b3c1-f7ed-4503-b20e-a9b8f51adf33"
      },
      "execution_count": null,
      "outputs": [
        {
          "output_type": "stream",
          "name": "stdout",
          "text": [
            "Depth  :  1  Training Accuracy :  0.8786231884057971  Cross val score :  0.7615384615384615\n",
            "Depth  :  2  Training Accuracy :  0.8786231884057971  Cross val score :  0.7175824175824176\n",
            "Depth  :  3  Training Accuracy :  0.8840579710144928  Cross val score :  0.7252747252747254\n",
            "Depth  :  4  Training Accuracy :  0.9112318840579711  Cross val score :  0.7318681318681319\n",
            "Depth  :  5  Training Accuracy :  0.9257246376811594  Cross val score :  0.7175824175824176\n",
            "Depth  :  6  Training Accuracy :  0.9528985507246377  Cross val score :  0.7104395604395604\n",
            "Depth  :  7  Training Accuracy :  0.9710144927536232  Cross val score :  0.7027472527472527\n",
            "Depth  :  8  Training Accuracy :  0.9782608695652174  Cross val score :  0.6741758241758242\n",
            "Depth  :  9  Training Accuracy :  0.9909420289855072  Cross val score :  0.75989010989011\n",
            "Depth  :  10  Training Accuracy :  0.9963768115942029  Cross val score :  0.7098901098901098\n",
            "Depth  :  20  Training Accuracy :  1.0  Cross val score :  0.7093406593406594\n"
          ]
        }
      ]
    },
    {
      "cell_type": "markdown",
      "source": [
        "**k= 1 is the good cross validation score of 0.761**"
      ],
      "metadata": {
        "id": "4kveE50HUsfW"
      }
    },
    {
      "cell_type": "code",
      "source": [
        "dt = DecisionTreeClassifier(max_depth=1)\n",
        "dt.fit(x_train,y_train)\n",
        "print(\"Decision Tree Score : \", dt.score(x_train,y_train))\n",
        "print( \"AUROC on the sampled dataset : \",roc_auc_score( y_test, dt.predict_proba(x_test)[:, 1]))"
      ],
      "metadata": {
        "colab": {
          "base_uri": "https://localhost:8080/"
        },
        "id": "AegjXpOfOBlM",
        "outputId": "31b30eb0-fda7-4b19-8685-6cd8ebfc7c30"
      },
      "execution_count": null,
      "outputs": [
        {
          "output_type": "stream",
          "name": "stdout",
          "text": [
            "Decision Tree Score :  0.8786231884057971\n",
            "AUROC on the sampled dataset :  0.7645202020202021\n"
          ]
        }
      ]
    },
    {
      "cell_type": "markdown",
      "source": [
        "## **XG Boost**"
      ],
      "metadata": {
        "id": "_eHkQr0iOj4t"
      }
    },
    {
      "cell_type": "code",
      "source": [
        "import xgboost as xgb\n",
        "from sklearn.model_selection import cross_val_score\n",
        "import numpy as np\n",
        "for lr in [0.01,0.02,0.03,0.04,0.05,0.1,0.11,0.12,0.13,0.14,0.15,0.2,0.5,0.7,1]:\n",
        "  model = xgb.XGBClassifier(learning_rate = lr, n_estimators=100, verbosity = 0) # initialise the model\n",
        "  model.fit(x_train,y_train) #train the model\n",
        "  print(\"Learning rate : \", lr,\" Train score : \", model.score(x_train,y_train),\" Cross-Val score : \", np.mean(cross_val_score(model, x_test, y_test, cv=10)))\n"
      ],
      "metadata": {
        "colab": {
          "base_uri": "https://localhost:8080/"
        },
        "id": "lyxRjp5VcX15",
        "outputId": "9ca67b2b-a83d-4238-ba4a-7a62bde418c2"
      },
      "execution_count": null,
      "outputs": [
        {
          "output_type": "stream",
          "name": "stdout",
          "text": [
            "Learning rate :  0.01  Train score :  0.9510869565217391  Cross-Val score :  0.7978021978021979\n",
            "Learning rate :  0.02  Train score :  0.9637681159420289  Cross-Val score :  0.7901098901098901\n",
            "Learning rate :  0.03  Train score :  0.9746376811594203  Cross-Val score :  0.782967032967033\n",
            "Learning rate :  0.04  Train score :  0.9836956521739131  Cross-Val score :  0.7686813186813186\n",
            "Learning rate :  0.05  Train score :  0.9891304347826086  Cross-Val score :  0.7906593406593406\n",
            "Learning rate :  0.1  Train score :  1.0  Cross-Val score :  0.7752747252747252\n",
            "Learning rate :  0.11  Train score :  1.0  Cross-Val score :  0.7758241758241757\n",
            "Learning rate :  0.12  Train score :  1.0  Cross-Val score :  0.7901098901098902\n",
            "Learning rate :  0.13  Train score :  1.0  Cross-Val score :  0.7758241758241758\n",
            "Learning rate :  0.14  Train score :  1.0  Cross-Val score :  0.7758241758241758\n",
            "Learning rate :  0.15  Train score :  1.0  Cross-Val score :  0.7901098901098902\n",
            "Learning rate :  0.2  Train score :  1.0  Cross-Val score :  0.7758241758241758\n",
            "Learning rate :  0.5  Train score :  1.0  Cross-Val score :  0.7758241758241758\n",
            "Learning rate :  0.7  Train score :  1.0  Cross-Val score :  0.7824175824175825\n",
            "Learning rate :  1  Train score :  1.0  Cross-Val score :  0.7890109890109891\n"
          ]
        }
      ]
    },
    {
      "cell_type": "markdown",
      "source": [
        "**Learning Rate 0.01 is getting the best cross validation score of 0.7978**"
      ],
      "metadata": {
        "id": "0tTAT5eHwer_"
      }
    },
    {
      "cell_type": "markdown",
      "source": [
        "## **Random Forest**"
      ],
      "metadata": {
        "id": "AXdUg_kdxQlB"
      }
    },
    {
      "cell_type": "code",
      "source": [
        "from sklearn.ensemble import RandomForestClassifier\n",
        "rf= RandomForestClassifier(max_depth=2,n_estimators=100,max_features=\"sqrt\")    #max_depth=log(no of features)\n",
        "rf.fit(x_train, y_train)\n",
        "y_pred= rf.predict(x_test)"
      ],
      "metadata": {
        "id": "ClTqTerxxVIo"
      },
      "execution_count": null,
      "outputs": []
    },
    {
      "cell_type": "code",
      "source": [
        "#doing cross validation to get best value of max _depth to prevent overfitted model\n",
        "from sklearn.model_selection import cross_val_score\n",
        "from sklearn.ensemble import RandomForestClassifier\n",
        "for depth in [1,2,3,4,5,6,7,8,9,10]:\n",
        "  rf= RandomForestClassifier(max_depth=depth,n_estimators=100,max_features=\"sqrt\")   # will tell the DT to not grow past the given threhsold\n",
        "  # Fit dt to the training set\n",
        "  rf.fit(x_train, y_train) # the model is trained\n",
        "  rf= RandomForestClassifier(max_depth=depth,n_estimators=100,max_features=\"sqrt\")   # a fresh model which is not trained yet\n",
        "  valAccuracy = cross_val_score(rf, x_train, y_train, cv=10) # syntax : cross_val_Score(freshModel,fts, target, cv= 10/5)\n",
        "  print(\"Depth  : \", depth, \" Training Accuracy : \", trainAccuracy, \" Cross val score : \" ,np.mean(valAccuracy))"
      ],
      "metadata": {
        "colab": {
          "base_uri": "https://localhost:8080/"
        },
        "id": "kaQb-bQxysSs",
        "outputId": "1670dc95-357f-4c96-e67f-dfc413c3b7d6"
      },
      "execution_count": null,
      "outputs": [
        {
          "output_type": "stream",
          "name": "stdout",
          "text": [
            "Depth  :  1  Training Accuracy :  1.0  Cross val score :  0.8459415584415584\n",
            "Depth  :  2  Training Accuracy :  1.0  Cross val score :  0.8658766233766233\n",
            "Depth  :  3  Training Accuracy :  1.0  Cross val score :  0.8768181818181817\n",
            "Depth  :  4  Training Accuracy :  1.0  Cross val score :  0.8768181818181817\n",
            "Depth  :  5  Training Accuracy :  1.0  Cross val score :  0.8804545454545455\n",
            "Depth  :  6  Training Accuracy :  1.0  Cross val score :  0.8912987012987014\n",
            "Depth  :  7  Training Accuracy :  1.0  Cross val score :  0.8858441558441559\n",
            "Depth  :  8  Training Accuracy :  1.0  Cross val score :  0.9002922077922078\n",
            "Depth  :  9  Training Accuracy :  1.0  Cross val score :  0.8985389610389609\n",
            "Depth  :  10  Training Accuracy :  1.0  Cross val score :  0.9003896103896103\n"
          ]
        }
      ]
    },
    {
      "cell_type": "markdown",
      "source": [
        "**Depth = 10 is giving the good cross validation score fo 0.9003**"
      ],
      "metadata": {
        "id": "n-oIS0STam8e"
      }
    },
    {
      "cell_type": "markdown",
      "source": [
        "# **Solution Statement**\n",
        "\n",
        "Models are tested, below are the AUROC value of each model\n",
        "\n",
        "*   **Logistic Regression** - AUROC Score is **0.85**\n",
        "*   **KNN** - AUROC Score is  **0.819**\n",
        "*   **Decision Tree** - AUROC Score is **0.761**\n",
        "*   **XG Boost** - AUROC Score is  **0.7978**\n",
        "*   **Random Forest** - AUROC Score is **0.9003**\n",
        "\n",
        "**Hence Random Forest is giving the good AUROC Score of 0.9003, so Random Forest is the best model for candidates Hiring prediction**\n",
        "\n",
        "\n",
        "\n"
      ],
      "metadata": {
        "id": "T9tlKjtyrHIe"
      }
    },
    {
      "cell_type": "markdown",
      "source": [
        "# **Feature Importance**"
      ],
      "metadata": {
        "id": "gIip1cqFd0sK"
      }
    },
    {
      "cell_type": "code",
      "source": [
        "from xgboost import plot_importance\n",
        "\n",
        "# plot feature importance\n",
        "plot_importance(model)\n",
        "plt.show()"
      ],
      "metadata": {
        "colab": {
          "base_uri": "https://localhost:8080/",
          "height": 480
        },
        "id": "qKqM1MUKgoU7",
        "outputId": "fe054c53-e857-4351-eaed-8a8e2bcc7104"
      },
      "execution_count": null,
      "outputs": [
        {
          "output_type": "display_data",
          "data": {
            "text/plain": [
              "<Figure size 640x480 with 1 Axes>"
            ],
            "image/png": "[encoded data removed]"
          },
          "metadata": {}
        }
      ]
    },
    {
      "cell_type": "code",
      "source": [
        "df.columns"
      ],
      "metadata": {
        "colab": {
          "base_uri": "https://localhost:8080/"
        },
        "id": "LL0P-u7yxZq7",
        "outputId": "b7f44cae-4a94-4a8d-85fb-7f184cd61d6e"
      },
      "execution_count": null,
      "outputs": [
        {
          "output_type": "execute_result",
          "data": {
            "text/plain": [
              "Index(['C1', 'C2', 'C3', 'C4', 'C5', 'C6', 'C7', 'C8', 'C9', 'C10', 'C11',\n",
              "       'C12', 'C13', 'C14', 'C15', 'Hired'],\n",
              "      dtype='object')"
            ]
          },
          "metadata": {},
          "execution_count": 183
        }
      ]
    },
    {
      "cell_type": "markdown",
      "source": [
        "f0 - C1, f1 - C2, f2 - C3, f3- C4,\n",
        "f4 - C5, f5 - C6, f6 - C7, f7 -C8, f8 - C9,\n",
        "f9 - C10, f10 -C11, f10-C12, f11-C13, f12-C14, f13-C15\n"
      ],
      "metadata": {
        "id": "mm_E054wYKSy"
      }
    },
    {
      "cell_type": "markdown",
      "source": [
        "### **Conclusion:**\n",
        "\n",
        "Based on the Feature Importance given by best machine Learning that will predict if a candidate is Hired or not.\n",
        "\n",
        "The client should focused on the top few features of order given below to have them hired to the company.\n",
        "\n",
        "C15, C3, C2, C8, C6.\n"
      ],
      "metadata": {
        "id": "MI8IWFRHY70z"
      }
    }
  ]
}